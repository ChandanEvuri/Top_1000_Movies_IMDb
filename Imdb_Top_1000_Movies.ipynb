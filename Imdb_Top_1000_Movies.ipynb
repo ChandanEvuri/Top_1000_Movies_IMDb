{
 "cells": [
  {
   "cell_type": "markdown",
   "id": "67bde85f",
   "metadata": {},
   "source": [
    "## Using the requests library to download web pages"
   ]
  },
  {
   "cell_type": "code",
   "execution_count": 1,
   "id": "114985f6",
   "metadata": {},
   "outputs": [],
   "source": [
    "import pandas as pd\n",
    "import numpy as np\n",
    "import requests"
   ]
  },
  {
   "cell_type": "code",
   "execution_count": 2,
   "id": "3849a05f",
   "metadata": {},
   "outputs": [],
   "source": [
    "top_movie_url = \"https://www.imdb.com/search/title/?groups=top_1000&start=1&ref_=adv_nxt\""
   ]
  },
  {
   "cell_type": "code",
   "execution_count": 3,
   "id": "9617ed03",
   "metadata": {},
   "outputs": [],
   "source": [
    "res = requests.get(top_movie_url)"
   ]
  },
  {
   "cell_type": "code",
   "execution_count": 4,
   "id": "a21632d3",
   "metadata": {},
   "outputs": [
    {
     "data": {
      "text/plain": [
       "<Response [200]>"
      ]
     },
     "execution_count": 4,
     "metadata": {},
     "output_type": "execute_result"
    }
   ],
   "source": [
    "res"
   ]
  },
  {
   "cell_type": "code",
   "execution_count": 5,
   "id": "0d5f27b7",
   "metadata": {},
   "outputs": [],
   "source": [
    "data=res.text"
   ]
  },
  {
   "cell_type": "markdown",
   "id": "0d0d072b",
   "metadata": {},
   "source": [
    "## Using Beautiful Soup to parse & extract information from downloaded web page "
   ]
  },
  {
   "cell_type": "code",
   "execution_count": 6,
   "id": "32f74d92",
   "metadata": {},
   "outputs": [],
   "source": [
    "from bs4 import BeautifulSoup"
   ]
  },
  {
   "cell_type": "code",
   "execution_count": 7,
   "id": "07e7a8b0",
   "metadata": {},
   "outputs": [],
   "source": [
    "bs_data = BeautifulSoup(data,'html.parser')"
   ]
  },
  {
   "cell_type": "code",
   "execution_count": 8,
   "id": "eaf5d35e",
   "metadata": {},
   "outputs": [],
   "source": [
    "headers = {'Accept-Language':'en-US, en;q=0.5'}"
   ]
  },
  {
   "cell_type": "markdown",
   "id": "77ae771b",
   "metadata": {},
   "source": [
    "# Web Scraping "
   ]
  },
  {
   "cell_type": "code",
   "execution_count": 9,
   "id": "9c9ccf48",
   "metadata": {},
   "outputs": [],
   "source": [
    "movie_div = bs_data.find_all('div',class_='lister-item mode-advanced')"
   ]
  },
  {
   "cell_type": "markdown",
   "id": "cc0f5525",
   "metadata": {},
   "source": [
    "## Extracting Movie Titles"
   ]
  },
  {
   "cell_type": "code",
   "execution_count": 10,
   "id": "746afd1d",
   "metadata": {},
   "outputs": [],
   "source": [
    "titles =[]\n",
    "\n",
    "for container in movie_div:\n",
    "    name = container.h3.a.text\n",
    "    titles.append(name)"
   ]
  },
  {
   "cell_type": "code",
   "execution_count": 11,
   "id": "49ef1df7",
   "metadata": {},
   "outputs": [
    {
     "data": {
      "text/plain": [
       "['Top Gun: Maverick',\n",
       " 'Thirteen Lives',\n",
       " 'Everything Everywhere All at Once',\n",
       " 'The Batman',\n",
       " 'Spider-Man: No Way Home',\n",
       " 'The Godfather',\n",
       " 'The Shawshank Redemption',\n",
       " 'The Lord of the Rings: The Fellowship of the Ring',\n",
       " 'Once Upon a Time in... Hollywood',\n",
       " 'Get Out',\n",
       " 'Dune: Part One',\n",
       " 'Predator',\n",
       " 'RRR (Rise Roar Revolt)',\n",
       " 'Interstellar',\n",
       " \"Harry Potter and the Sorcerer's Stone\",\n",
       " 'Pulp Fiction',\n",
       " 'The Dark Knight',\n",
       " 'The Wolf of Wall Street',\n",
       " 'Avengers: Endgame',\n",
       " 'Heat',\n",
       " 'Fight Club',\n",
       " 'Titanic',\n",
       " 'The Goonies',\n",
       " 'American Psycho',\n",
       " 'Inception',\n",
       " 'Forrest Gump',\n",
       " 'Whiplash',\n",
       " 'Blade Runner 2049',\n",
       " 'Knives Out',\n",
       " 'Goodfellas',\n",
       " 'The Lord of the Rings: The Return of the King',\n",
       " 'Avatar',\n",
       " 'Jurassic Park',\n",
       " 'Alien',\n",
       " 'Joker',\n",
       " 'Se7en',\n",
       " 'Jaws',\n",
       " 'Gisaengchung',\n",
       " 'Inglourious Basterds',\n",
       " 'The Gentlemen',\n",
       " 'Stand by Me',\n",
       " 'Back to the Future',\n",
       " 'Verdens verste menneske',\n",
       " 'The Departed',\n",
       " 'Mad Max: Fury Road',\n",
       " 'The Silence of the Lambs',\n",
       " 'Gladiator',\n",
       " 'The Hobbit: An Unexpected Journey',\n",
       " 'The Lord of the Rings: The Two Towers',\n",
       " 'Tombstone']"
      ]
     },
     "execution_count": 11,
     "metadata": {},
     "output_type": "execute_result"
    }
   ],
   "source": [
    "titles"
   ]
  },
  {
   "cell_type": "markdown",
   "id": "542568c6",
   "metadata": {},
   "source": [
    "## Extracting Movie Rank"
   ]
  },
  {
   "cell_type": "code",
   "execution_count": 12,
   "id": "f14ab643",
   "metadata": {},
   "outputs": [],
   "source": [
    "rank = []\n",
    "\n",
    "for container in movie_div:\n",
    "    ran = container.h3.find('span', class_='lister-item-index unbold text-primary').text\n",
    "    rank.append(ran)"
   ]
  },
  {
   "cell_type": "code",
   "execution_count": 13,
   "id": "ea58604e",
   "metadata": {},
   "outputs": [
    {
     "data": {
      "text/plain": [
       "['1.',\n",
       " '2.',\n",
       " '3.',\n",
       " '4.',\n",
       " '5.',\n",
       " '6.',\n",
       " '7.',\n",
       " '8.',\n",
       " '9.',\n",
       " '10.',\n",
       " '11.',\n",
       " '12.',\n",
       " '13.',\n",
       " '14.',\n",
       " '15.',\n",
       " '16.',\n",
       " '17.',\n",
       " '18.',\n",
       " '19.',\n",
       " '20.',\n",
       " '21.',\n",
       " '22.',\n",
       " '23.',\n",
       " '24.',\n",
       " '25.',\n",
       " '26.',\n",
       " '27.',\n",
       " '28.',\n",
       " '29.',\n",
       " '30.',\n",
       " '31.',\n",
       " '32.',\n",
       " '33.',\n",
       " '34.',\n",
       " '35.',\n",
       " '36.',\n",
       " '37.',\n",
       " '38.',\n",
       " '39.',\n",
       " '40.',\n",
       " '41.',\n",
       " '42.',\n",
       " '43.',\n",
       " '44.',\n",
       " '45.',\n",
       " '46.',\n",
       " '47.',\n",
       " '48.',\n",
       " '49.',\n",
       " '50.']"
      ]
     },
     "execution_count": 13,
     "metadata": {},
     "output_type": "execute_result"
    }
   ],
   "source": [
    "rank"
   ]
  },
  {
   "cell_type": "markdown",
   "id": "e00fcf53",
   "metadata": {},
   "source": [
    "## Extracting Movie Year"
   ]
  },
  {
   "cell_type": "code",
   "execution_count": 14,
   "id": "11f83ae0",
   "metadata": {},
   "outputs": [],
   "source": [
    "years = []\n",
    "\n",
    "for container in movie_div:\n",
    "    year = container.h3.find('span', class_='lister-item-year').text\n",
    "    years.append(year)"
   ]
  },
  {
   "cell_type": "code",
   "execution_count": 15,
   "id": "5b14dd9d",
   "metadata": {},
   "outputs": [
    {
     "data": {
      "text/plain": [
       "['(2022)',\n",
       " '(2022)',\n",
       " '(2022)',\n",
       " '(2022)',\n",
       " '(2021)',\n",
       " '(1972)',\n",
       " '(1994)',\n",
       " '(2001)',\n",
       " '(2019)',\n",
       " '(I) (2017)',\n",
       " '(2021)',\n",
       " '(1987)',\n",
       " '(2022)',\n",
       " '(2014)',\n",
       " '(2001)',\n",
       " '(1994)',\n",
       " '(2008)',\n",
       " '(2013)',\n",
       " '(2019)',\n",
       " '(1995)',\n",
       " '(1999)',\n",
       " '(1997)',\n",
       " '(1985)',\n",
       " '(2000)',\n",
       " '(2010)',\n",
       " '(1994)',\n",
       " '(2014)',\n",
       " '(2017)',\n",
       " '(2019)',\n",
       " '(1990)',\n",
       " '(2003)',\n",
       " '(2009)',\n",
       " '(1993)',\n",
       " '(1979)',\n",
       " '(I) (2019)',\n",
       " '(1995)',\n",
       " '(1975)',\n",
       " '(2019)',\n",
       " '(2009)',\n",
       " '(2019)',\n",
       " '(1986)',\n",
       " '(1985)',\n",
       " '(2021)',\n",
       " '(2006)',\n",
       " '(2015)',\n",
       " '(1991)',\n",
       " '(2000)',\n",
       " '(2012)',\n",
       " '(2002)',\n",
       " '(1993)']"
      ]
     },
     "execution_count": 15,
     "metadata": {},
     "output_type": "execute_result"
    }
   ],
   "source": [
    "years"
   ]
  },
  {
   "cell_type": "markdown",
   "id": "c9e60013",
   "metadata": {},
   "source": [
    "## Extracting Movie Genre"
   ]
  },
  {
   "cell_type": "code",
   "execution_count": 16,
   "id": "f96a8b60",
   "metadata": {},
   "outputs": [],
   "source": [
    "genre = []\n",
    "\n",
    "for container in movie_div:\n",
    "    gen = container.find(\"span\", class_=\"genre\").text.replace('\\n','').strip()\n",
    "    genre.append(gen)"
   ]
  },
  {
   "cell_type": "code",
   "execution_count": 17,
   "id": "9a16b229",
   "metadata": {},
   "outputs": [
    {
     "data": {
      "text/plain": [
       "['Action, Drama',\n",
       " 'Action, Adventure, Biography',\n",
       " 'Action, Adventure, Comedy',\n",
       " 'Action, Crime, Drama',\n",
       " 'Action, Adventure, Fantasy',\n",
       " 'Crime, Drama',\n",
       " 'Drama',\n",
       " 'Action, Adventure, Drama',\n",
       " 'Comedy, Drama',\n",
       " 'Horror, Mystery, Thriller',\n",
       " 'Action, Adventure, Drama',\n",
       " 'Action, Adventure, Horror',\n",
       " 'Action, Drama',\n",
       " 'Adventure, Drama, Sci-Fi',\n",
       " 'Adventure, Family, Fantasy',\n",
       " 'Crime, Drama',\n",
       " 'Action, Crime, Drama',\n",
       " 'Biography, Comedy, Crime',\n",
       " 'Action, Adventure, Drama',\n",
       " 'Action, Crime, Drama',\n",
       " 'Drama',\n",
       " 'Drama, Romance',\n",
       " 'Adventure, Comedy, Family',\n",
       " 'Crime, Drama, Horror',\n",
       " 'Action, Adventure, Sci-Fi',\n",
       " 'Drama, Romance',\n",
       " 'Drama, Music',\n",
       " 'Action, Drama, Mystery',\n",
       " 'Comedy, Crime, Drama',\n",
       " 'Biography, Crime, Drama',\n",
       " 'Action, Adventure, Drama',\n",
       " 'Action, Adventure, Fantasy',\n",
       " 'Action, Adventure, Sci-Fi',\n",
       " 'Horror, Sci-Fi',\n",
       " 'Crime, Drama, Thriller',\n",
       " 'Crime, Drama, Mystery',\n",
       " 'Adventure, Thriller',\n",
       " 'Comedy, Drama, Thriller',\n",
       " 'Adventure, Drama, War',\n",
       " 'Action, Comedy, Crime',\n",
       " 'Adventure, Drama',\n",
       " 'Adventure, Comedy, Sci-Fi',\n",
       " 'Comedy, Drama, Romance',\n",
       " 'Crime, Drama, Thriller',\n",
       " 'Action, Adventure, Sci-Fi',\n",
       " 'Crime, Drama, Thriller',\n",
       " 'Action, Adventure, Drama',\n",
       " 'Adventure, Fantasy',\n",
       " 'Action, Adventure, Drama',\n",
       " 'Biography, Drama, History']"
      ]
     },
     "execution_count": 17,
     "metadata": {},
     "output_type": "execute_result"
    }
   ],
   "source": [
    "genre"
   ]
  },
  {
   "cell_type": "markdown",
   "id": "80982a25",
   "metadata": {},
   "source": [
    "## Extracting Movie Director"
   ]
  },
  {
   "cell_type": "code",
   "execution_count": 18,
   "id": "0ab9439a",
   "metadata": {},
   "outputs": [],
   "source": [
    "direct = []\n",
    "\n",
    "for container in movie_div:\n",
    "    director = container.find('p',{'class': \"\"}).a.text\n",
    "    direct.append(director)\n"
   ]
  },
  {
   "cell_type": "code",
   "execution_count": 19,
   "id": "748bc251",
   "metadata": {},
   "outputs": [
    {
     "data": {
      "text/plain": [
       "['Joseph Kosinski',\n",
       " 'Ron Howard',\n",
       " 'Dan Kwan',\n",
       " 'Matt Reeves',\n",
       " 'Jon Watts',\n",
       " 'Francis Ford Coppola',\n",
       " 'Frank Darabont',\n",
       " 'Peter Jackson',\n",
       " 'Quentin Tarantino',\n",
       " 'Jordan Peele',\n",
       " 'Denis Villeneuve',\n",
       " 'John McTiernan',\n",
       " 'S.S. Rajamouli',\n",
       " 'Christopher Nolan',\n",
       " 'Chris Columbus',\n",
       " 'Quentin Tarantino',\n",
       " 'Christopher Nolan',\n",
       " 'Martin Scorsese',\n",
       " 'Anthony Russo',\n",
       " 'Michael Mann',\n",
       " 'David Fincher',\n",
       " 'James Cameron',\n",
       " 'Richard Donner',\n",
       " 'Mary Harron',\n",
       " 'Christopher Nolan',\n",
       " 'Robert Zemeckis',\n",
       " 'Damien Chazelle',\n",
       " 'Denis Villeneuve',\n",
       " 'Rian Johnson',\n",
       " 'Martin Scorsese',\n",
       " 'Peter Jackson',\n",
       " 'James Cameron',\n",
       " 'Steven Spielberg',\n",
       " 'Ridley Scott',\n",
       " 'Todd Phillips',\n",
       " 'David Fincher',\n",
       " 'Steven Spielberg',\n",
       " 'Bong Joon Ho',\n",
       " 'Quentin Tarantino',\n",
       " 'Guy Ritchie',\n",
       " 'Rob Reiner',\n",
       " 'Robert Zemeckis',\n",
       " 'Joachim Trier',\n",
       " 'Martin Scorsese',\n",
       " 'George Miller',\n",
       " 'Jonathan Demme',\n",
       " 'Ridley Scott',\n",
       " 'Peter Jackson',\n",
       " 'Peter Jackson',\n",
       " 'George P. Cosmatos']"
      ]
     },
     "execution_count": 19,
     "metadata": {},
     "output_type": "execute_result"
    }
   ],
   "source": [
    "direct"
   ]
  },
  {
   "cell_type": "markdown",
   "id": "4ae45fea",
   "metadata": {},
   "source": [
    "## Extracting Movie Runtime"
   ]
  },
  {
   "cell_type": "code",
   "execution_count": 20,
   "id": "d21e3b9f",
   "metadata": {},
   "outputs": [],
   "source": [
    "runtime = []\n",
    "for container in movie_div:\n",
    "    time = container.find('span', class_= 'runtime').text if container.p.find('span', class_='runtime') else np.NaN\n",
    "    runtime.append(time)"
   ]
  },
  {
   "cell_type": "code",
   "execution_count": 21,
   "id": "3780b927",
   "metadata": {},
   "outputs": [
    {
     "data": {
      "text/plain": [
       "['130 min',\n",
       " '147 min',\n",
       " '139 min',\n",
       " '176 min',\n",
       " '148 min',\n",
       " '175 min',\n",
       " '142 min',\n",
       " '178 min',\n",
       " '161 min',\n",
       " '104 min',\n",
       " '155 min',\n",
       " '107 min',\n",
       " '187 min',\n",
       " '169 min',\n",
       " '152 min',\n",
       " '154 min',\n",
       " '152 min',\n",
       " '180 min',\n",
       " '181 min',\n",
       " '170 min',\n",
       " '139 min',\n",
       " '194 min',\n",
       " '114 min',\n",
       " '102 min',\n",
       " '148 min',\n",
       " '142 min',\n",
       " '106 min',\n",
       " '164 min',\n",
       " '130 min',\n",
       " '145 min',\n",
       " '201 min',\n",
       " '162 min',\n",
       " '127 min',\n",
       " '117 min',\n",
       " '122 min',\n",
       " '127 min',\n",
       " '124 min',\n",
       " '132 min',\n",
       " '153 min',\n",
       " '113 min',\n",
       " '89 min',\n",
       " '116 min',\n",
       " '128 min',\n",
       " '151 min',\n",
       " '120 min',\n",
       " '118 min',\n",
       " '155 min',\n",
       " '169 min',\n",
       " '179 min',\n",
       " '130 min']"
      ]
     },
     "execution_count": 21,
     "metadata": {},
     "output_type": "execute_result"
    }
   ],
   "source": [
    "runtime"
   ]
  },
  {
   "cell_type": "markdown",
   "id": "a4b3f967",
   "metadata": {},
   "source": [
    "## Extracting Movie Ratings"
   ]
  },
  {
   "cell_type": "code",
   "execution_count": 22,
   "id": "6703d12c",
   "metadata": {},
   "outputs": [],
   "source": [
    "ratings = []\n",
    "for container in movie_div:\n",
    "        rating = float(container.strong.text)\n",
    "        ratings.append(rating)"
   ]
  },
  {
   "cell_type": "code",
   "execution_count": 23,
   "id": "6af9e2d2",
   "metadata": {},
   "outputs": [
    {
     "data": {
      "text/plain": [
       "[8.5,\n",
       " 7.8,\n",
       " 8.2,\n",
       " 7.9,\n",
       " 8.3,\n",
       " 9.2,\n",
       " 9.3,\n",
       " 8.8,\n",
       " 7.6,\n",
       " 7.7,\n",
       " 8.0,\n",
       " 7.8,\n",
       " 8.0,\n",
       " 8.6,\n",
       " 7.6,\n",
       " 8.9,\n",
       " 9.0,\n",
       " 8.2,\n",
       " 8.4,\n",
       " 8.3,\n",
       " 8.8,\n",
       " 7.9,\n",
       " 7.7,\n",
       " 7.6,\n",
       " 8.8,\n",
       " 8.8,\n",
       " 8.5,\n",
       " 8.0,\n",
       " 7.9,\n",
       " 8.7,\n",
       " 9.0,\n",
       " 7.8,\n",
       " 8.2,\n",
       " 8.5,\n",
       " 8.4,\n",
       " 8.6,\n",
       " 8.1,\n",
       " 8.5,\n",
       " 8.3,\n",
       " 7.8,\n",
       " 8.1,\n",
       " 8.5,\n",
       " 7.8,\n",
       " 8.5,\n",
       " 8.1,\n",
       " 8.6,\n",
       " 8.5,\n",
       " 7.8,\n",
       " 8.8,\n",
       " 7.8]"
      ]
     },
     "execution_count": 23,
     "metadata": {},
     "output_type": "execute_result"
    }
   ],
   "source": [
    "ratings"
   ]
  },
  {
   "cell_type": "markdown",
   "id": "9bafa036",
   "metadata": {},
   "source": [
    "## Extracting Movie Metascores"
   ]
  },
  {
   "cell_type": "code",
   "execution_count": 24,
   "id": "a8b18883",
   "metadata": {},
   "outputs": [],
   "source": [
    "metascores = []\n",
    "\n",
    "for container in movie_div:\n",
    "    m_score = container.find('span', class_='metascore').text if container.find('span', class_='metascore') else np.NaN\n",
    "    metascores.append(m_score.strip())"
   ]
  },
  {
   "cell_type": "code",
   "execution_count": 25,
   "id": "3af8bb71",
   "metadata": {},
   "outputs": [
    {
     "data": {
      "text/plain": [
       "['78',\n",
       " '66',\n",
       " '81',\n",
       " '72',\n",
       " '71',\n",
       " '100',\n",
       " '81',\n",
       " '92',\n",
       " '83',\n",
       " '85',\n",
       " '74',\n",
       " '46',\n",
       " '83',\n",
       " '74',\n",
       " '65',\n",
       " '94',\n",
       " '84',\n",
       " '75',\n",
       " '78',\n",
       " '76',\n",
       " '66',\n",
       " '75',\n",
       " '62',\n",
       " '64',\n",
       " '74',\n",
       " '82',\n",
       " '88',\n",
       " '81',\n",
       " '82',\n",
       " '90',\n",
       " '94',\n",
       " '83',\n",
       " '68',\n",
       " '89',\n",
       " '59',\n",
       " '65',\n",
       " '87',\n",
       " '96',\n",
       " '69',\n",
       " '51',\n",
       " '75',\n",
       " '87',\n",
       " '90',\n",
       " '85',\n",
       " '90',\n",
       " '85',\n",
       " '67',\n",
       " '58',\n",
       " '87',\n",
       " '50']"
      ]
     },
     "execution_count": 25,
     "metadata": {},
     "output_type": "execute_result"
    }
   ],
   "source": [
    "metascores"
   ]
  },
  {
   "cell_type": "markdown",
   "id": "cffd02de",
   "metadata": {},
   "source": [
    "## Extracting Movie Votes"
   ]
  },
  {
   "cell_type": "code",
   "execution_count": 26,
   "id": "e5800f8d",
   "metadata": {},
   "outputs": [],
   "source": [
    "votes = []\n",
    "\n",
    "for container in movie_div:\n",
    "    vote = container.find('p', attrs = {\"class\": \"sort-num_votes-visible\"}).text\n",
    "    votes.append(vote.replace('\\n',''))"
   ]
  },
  {
   "cell_type": "code",
   "execution_count": 27,
   "id": "03bf8bce",
   "metadata": {},
   "outputs": [
    {
     "data": {
      "text/plain": [
       "['Votes:324,613| Top 250:#60',\n",
       " 'Votes:33,502',\n",
       " 'Votes:188,809| Top 250:#183',\n",
       " 'Votes:582,166',\n",
       " 'Votes:713,789| Gross:$804.75M| Top 250:#134',\n",
       " 'Votes:1,825,380| Gross:$134.97M| Top 250:#2',\n",
       " 'Votes:2,633,825| Gross:$28.34M| Top 250:#1',\n",
       " 'Votes:1,828,772| Gross:$315.54M| Top 250:#9',\n",
       " 'Votes:714,851| Gross:$142.50M',\n",
       " 'Votes:587,141| Gross:$176.04M',\n",
       " 'Votes:604,136| Gross:$108.33M',\n",
       " 'Votes:417,443| Gross:$59.74M',\n",
       " 'Votes:101,643',\n",
       " 'Votes:1,775,997| Gross:$188.02M| Top 250:#27',\n",
       " 'Votes:764,870| Gross:$317.58M',\n",
       " 'Votes:2,016,001| Gross:$107.93M| Top 250:#8',\n",
       " 'Votes:2,605,088| Gross:$534.86M| Top 250:#3',\n",
       " 'Votes:1,374,359| Gross:$116.90M| Top 250:#133',\n",
       " 'Votes:1,094,938| Gross:$858.37M| Top 250:#80',\n",
       " 'Votes:646,569| Gross:$67.44M| Top 250:#111',\n",
       " 'Votes:2,077,665| Gross:$37.03M| Top 250:#12',\n",
       " 'Votes:1,154,792| Gross:$659.33M',\n",
       " 'Votes:270,909| Gross:$61.50M',\n",
       " 'Votes:593,614| Gross:$15.07M',\n",
       " 'Votes:2,309,861| Gross:$292.58M| Top 250:#13',\n",
       " 'Votes:2,038,741| Gross:$330.25M| Top 250:#11',\n",
       " 'Votes:834,648| Gross:$13.09M| Top 250:#43',\n",
       " 'Votes:557,015| Gross:$92.05M',\n",
       " 'Votes:606,801| Gross:$165.36M',\n",
       " 'Votes:1,141,265| Gross:$46.84M| Top 250:#17',\n",
       " 'Votes:1,806,760| Gross:$377.85M| Top 250:#7',\n",
       " 'Votes:1,218,653| Gross:$760.51M',\n",
       " 'Votes:975,293| Gross:$402.45M| Top 250:#148',\n",
       " 'Votes:868,712| Gross:$78.90M| Top 250:#50',\n",
       " 'Votes:1,234,935| Gross:$335.45M| Top 250:#72',\n",
       " 'Votes:1,619,542| Gross:$100.13M| Top 250:#19',\n",
       " 'Votes:596,581| Gross:$260.00M| Top 250:#206',\n",
       " 'Votes:771,778| Gross:$53.37M| Top 250:#35',\n",
       " 'Votes:1,421,474| Gross:$120.54M| Top 250:#77',\n",
       " 'Votes:329,252',\n",
       " 'Votes:399,387| Gross:$52.29M| Top 250:#215',\n",
       " 'Votes:1,182,766| Gross:$210.61M| Top 250:#30',\n",
       " 'Votes:57,642',\n",
       " 'Votes:1,306,452| Gross:$132.38M| Top 250:#39',\n",
       " 'Votes:986,371| Gross:$154.06M| Top 250:#201',\n",
       " 'Votes:1,407,879| Gross:$130.74M| Top 250:#22',\n",
       " 'Votes:1,476,786| Gross:$187.71M| Top 250:#37',\n",
       " 'Votes:813,277| Gross:$303.00M',\n",
       " 'Votes:1,631,615| Gross:$342.55M| Top 250:#14',\n",
       " 'Votes:148,108| Gross:$56.51M']"
      ]
     },
     "execution_count": 27,
     "metadata": {},
     "output_type": "execute_result"
    }
   ],
   "source": [
    "votes"
   ]
  },
  {
   "cell_type": "code",
   "execution_count": 28,
   "id": "29dafa4a",
   "metadata": {},
   "outputs": [],
   "source": [
    "pages = np.arange(1,1001,50)"
   ]
  },
  {
   "cell_type": "code",
   "execution_count": 29,
   "id": "5ff50283",
   "metadata": {},
   "outputs": [
    {
     "data": {
      "text/plain": [
       "array([  1,  51, 101, 151, 201, 251, 301, 351, 401, 451, 501, 551, 601,\n",
       "       651, 701, 751, 801, 851, 901, 951])"
      ]
     },
     "execution_count": 29,
     "metadata": {},
     "output_type": "execute_result"
    }
   ],
   "source": [
    "pages"
   ]
  },
  {
   "cell_type": "markdown",
   "id": "0d2062a7",
   "metadata": {},
   "source": [
    "## Extracting information from all pages"
   ]
  },
  {
   "cell_type": "code",
   "execution_count": 30,
   "id": "f9797f90",
   "metadata": {},
   "outputs": [],
   "source": [
    "rank = []\n",
    "titles =[]\n",
    "years = []\n",
    "genre = []\n",
    "direct = []\n",
    "time = []\n",
    "rating = []\n",
    "metascore = []\n",
    "votes = []"
   ]
  },
  {
   "cell_type": "code",
   "execution_count": 31,
   "id": "a7d78cff",
   "metadata": {},
   "outputs": [],
   "source": [
    "for page in pages:\n",
    "    page = requests.get('https://www.imdb.com/search/title/?groups=top_1000&start=' +str(page)+'&ref_=adv_nxt', headers = headers)\n",
    "    soup = BeautifulSoup(page.text,'html.parser')\n",
    "    \n",
    "    movie_div = soup.find_all('div', class_= 'lister-item mode-advanced')\n",
    "    \n",
    "    for container in movie_div:\n",
    "        name = container.h3.a.text\n",
    "        titles.append(name)\n",
    "        \n",
    "        director = container.find('p',{'class': \"\"}).a.text\n",
    "        direct.append(director)\n",
    "        \n",
    "        ran = container.h3.find('span', class_='lister-item-index unbold text-primary').text\n",
    "        rank.append(ran)\n",
    "                \n",
    "        gen = container.find(\"span\", class_=\"genre\").text.replace('\\n','').strip()\n",
    "        genre.append(gen)\n",
    "    \n",
    "        year = container.h3.find('span', class_= 'lister-item-year').text\n",
    "        years.append(year)\n",
    "    \n",
    "        runtime = container.find('span', class_='runtime').text if container.p.find('span', class_='runtime') else np.NaN\n",
    "        time.append(runtime)\n",
    "    \n",
    "        m_score = container.find('span', class_='metascore').text if container.find('span', class_='metascore') else np.NaN\n",
    "        metascore.append(m_score)\n",
    "        \n",
    "        rate= float(container.strong.text)\n",
    "        rating.append(rate)\n",
    "    \n",
    "        vote = container.find('p', attrs = {'class':'sort-num_votes-visible'}).text\n",
    "        votes.append(vote.replace(\"\\n\",\"\"))\n",
    "    "
   ]
  },
  {
   "cell_type": "code",
   "execution_count": 32,
   "id": "637ebcff",
   "metadata": {},
   "outputs": [],
   "source": [
    "dataset = pd.DataFrame({\"Rank\": rank,\n",
    "                       \"Title\": titles,\n",
    "                       \"Year\": years,\n",
    "                       \"Genre\": genre,\n",
    "                       \"Director\": direct,\n",
    "                       \"RunTime\": time,\n",
    "                       \"Rating\": rating,\n",
    "                       \"MetaScore\": metascore,\n",
    "                       \"VotesAll\": votes})"
   ]
  },
  {
   "cell_type": "code",
   "execution_count": 33,
   "id": "0cd04edf",
   "metadata": {},
   "outputs": [
    {
     "data": {
      "text/html": [
       "<div>\n",
       "<style scoped>\n",
       "    .dataframe tbody tr th:only-of-type {\n",
       "        vertical-align: middle;\n",
       "    }\n",
       "\n",
       "    .dataframe tbody tr th {\n",
       "        vertical-align: top;\n",
       "    }\n",
       "\n",
       "    .dataframe thead th {\n",
       "        text-align: right;\n",
       "    }\n",
       "</style>\n",
       "<table border=\"1\" class=\"dataframe\">\n",
       "  <thead>\n",
       "    <tr style=\"text-align: right;\">\n",
       "      <th></th>\n",
       "      <th>Rank</th>\n",
       "      <th>Title</th>\n",
       "      <th>Year</th>\n",
       "      <th>Genre</th>\n",
       "      <th>Director</th>\n",
       "      <th>RunTime</th>\n",
       "      <th>Rating</th>\n",
       "      <th>MetaScore</th>\n",
       "      <th>VotesAll</th>\n",
       "    </tr>\n",
       "  </thead>\n",
       "  <tbody>\n",
       "    <tr>\n",
       "      <th>0</th>\n",
       "      <td>1.</td>\n",
       "      <td>Top Gun: Maverick</td>\n",
       "      <td>(2022)</td>\n",
       "      <td>Action, Drama</td>\n",
       "      <td>Joseph Kosinski</td>\n",
       "      <td>130 min</td>\n",
       "      <td>8.5</td>\n",
       "      <td>78</td>\n",
       "      <td>Votes:324,613| Top 250:#60</td>\n",
       "    </tr>\n",
       "    <tr>\n",
       "      <th>1</th>\n",
       "      <td>2.</td>\n",
       "      <td>Thirteen Lives</td>\n",
       "      <td>(2022)</td>\n",
       "      <td>Action, Adventure, Biography</td>\n",
       "      <td>Ron Howard</td>\n",
       "      <td>147 min</td>\n",
       "      <td>7.8</td>\n",
       "      <td>66</td>\n",
       "      <td>Votes:33,502</td>\n",
       "    </tr>\n",
       "    <tr>\n",
       "      <th>2</th>\n",
       "      <td>3.</td>\n",
       "      <td>Everything Everywhere All at Once</td>\n",
       "      <td>(2022)</td>\n",
       "      <td>Action, Adventure, Comedy</td>\n",
       "      <td>Dan Kwan</td>\n",
       "      <td>139 min</td>\n",
       "      <td>8.2</td>\n",
       "      <td>81</td>\n",
       "      <td>Votes:188,809| Top 250:#183</td>\n",
       "    </tr>\n",
       "    <tr>\n",
       "      <th>3</th>\n",
       "      <td>4.</td>\n",
       "      <td>The Batman</td>\n",
       "      <td>(2022)</td>\n",
       "      <td>Action, Crime, Drama</td>\n",
       "      <td>Matt Reeves</td>\n",
       "      <td>176 min</td>\n",
       "      <td>7.9</td>\n",
       "      <td>72</td>\n",
       "      <td>Votes:582,166</td>\n",
       "    </tr>\n",
       "    <tr>\n",
       "      <th>4</th>\n",
       "      <td>5.</td>\n",
       "      <td>Spider-Man: No Way Home</td>\n",
       "      <td>(2021)</td>\n",
       "      <td>Action, Adventure, Fantasy</td>\n",
       "      <td>Jon Watts</td>\n",
       "      <td>148 min</td>\n",
       "      <td>8.3</td>\n",
       "      <td>71</td>\n",
       "      <td>Votes:713,789| Gross:$804.75M| Top 250:#134</td>\n",
       "    </tr>\n",
       "    <tr>\n",
       "      <th>...</th>\n",
       "      <td>...</td>\n",
       "      <td>...</td>\n",
       "      <td>...</td>\n",
       "      <td>...</td>\n",
       "      <td>...</td>\n",
       "      <td>...</td>\n",
       "      <td>...</td>\n",
       "      <td>...</td>\n",
       "      <td>...</td>\n",
       "    </tr>\n",
       "    <tr>\n",
       "      <th>995</th>\n",
       "      <td>996.</td>\n",
       "      <td>Sarfarosh</td>\n",
       "      <td>(1999)</td>\n",
       "      <td>Action, Drama, Thriller</td>\n",
       "      <td>John Mathew Matthan</td>\n",
       "      <td>174 min</td>\n",
       "      <td>8.1</td>\n",
       "      <td>NaN</td>\n",
       "      <td>Votes:25,750</td>\n",
       "    </tr>\n",
       "    <tr>\n",
       "      <th>996</th>\n",
       "      <td>997.</td>\n",
       "      <td>Everything's Gonna Be Great</td>\n",
       "      <td>(1998)</td>\n",
       "      <td>Comedy, Drama, Thriller</td>\n",
       "      <td>Ömer Vargi</td>\n",
       "      <td>107 min</td>\n",
       "      <td>8.1</td>\n",
       "      <td>NaN</td>\n",
       "      <td>Votes:25,512</td>\n",
       "    </tr>\n",
       "    <tr>\n",
       "      <th>997</th>\n",
       "      <td>998.</td>\n",
       "      <td>Paan Singh Tomar</td>\n",
       "      <td>(2012)</td>\n",
       "      <td>Action, Biography, Crime</td>\n",
       "      <td>Tigmanshu Dhulia</td>\n",
       "      <td>135 min</td>\n",
       "      <td>8.2</td>\n",
       "      <td>NaN</td>\n",
       "      <td>Votes:36,303| Gross:$0.04M</td>\n",
       "    </tr>\n",
       "    <tr>\n",
       "      <th>998</th>\n",
       "      <td>999.</td>\n",
       "      <td>Anand</td>\n",
       "      <td>(1971)</td>\n",
       "      <td>Drama, Musical</td>\n",
       "      <td>Hrishikesh Mukherjee</td>\n",
       "      <td>122 min</td>\n",
       "      <td>8.1</td>\n",
       "      <td>NaN</td>\n",
       "      <td>Votes:33,806</td>\n",
       "    </tr>\n",
       "    <tr>\n",
       "      <th>999</th>\n",
       "      <td>1,000.</td>\n",
       "      <td>The Breath</td>\n",
       "      <td>(2009)</td>\n",
       "      <td>Action, Drama, Thriller</td>\n",
       "      <td>Levent Semerci</td>\n",
       "      <td>128 min</td>\n",
       "      <td>7.9</td>\n",
       "      <td>NaN</td>\n",
       "      <td>Votes:33,725</td>\n",
       "    </tr>\n",
       "  </tbody>\n",
       "</table>\n",
       "<p>1000 rows × 9 columns</p>\n",
       "</div>"
      ],
      "text/plain": [
       "       Rank                              Title    Year  \\\n",
       "0        1.                  Top Gun: Maverick  (2022)   \n",
       "1        2.                     Thirteen Lives  (2022)   \n",
       "2        3.  Everything Everywhere All at Once  (2022)   \n",
       "3        4.                         The Batman  (2022)   \n",
       "4        5.            Spider-Man: No Way Home  (2021)   \n",
       "..      ...                                ...     ...   \n",
       "995    996.                          Sarfarosh  (1999)   \n",
       "996    997.        Everything's Gonna Be Great  (1998)   \n",
       "997    998.                   Paan Singh Tomar  (2012)   \n",
       "998    999.                              Anand  (1971)   \n",
       "999  1,000.                         The Breath  (2009)   \n",
       "\n",
       "                            Genre              Director  RunTime  Rating  \\\n",
       "0                   Action, Drama       Joseph Kosinski  130 min     8.5   \n",
       "1    Action, Adventure, Biography            Ron Howard  147 min     7.8   \n",
       "2       Action, Adventure, Comedy              Dan Kwan  139 min     8.2   \n",
       "3            Action, Crime, Drama           Matt Reeves  176 min     7.9   \n",
       "4      Action, Adventure, Fantasy             Jon Watts  148 min     8.3   \n",
       "..                            ...                   ...      ...     ...   \n",
       "995       Action, Drama, Thriller   John Mathew Matthan  174 min     8.1   \n",
       "996       Comedy, Drama, Thriller            Ömer Vargi  107 min     8.1   \n",
       "997      Action, Biography, Crime      Tigmanshu Dhulia  135 min     8.2   \n",
       "998                Drama, Musical  Hrishikesh Mukherjee  122 min     8.1   \n",
       "999       Action, Drama, Thriller        Levent Semerci  128 min     7.9   \n",
       "\n",
       "      MetaScore                                     VotesAll  \n",
       "0    78                           Votes:324,613| Top 250:#60  \n",
       "1    66                                         Votes:33,502  \n",
       "2    81                          Votes:188,809| Top 250:#183  \n",
       "3    72                                        Votes:582,166  \n",
       "4    71          Votes:713,789| Gross:$804.75M| Top 250:#134  \n",
       "..          ...                                          ...  \n",
       "995         NaN                                 Votes:25,750  \n",
       "996         NaN                                 Votes:25,512  \n",
       "997         NaN                   Votes:36,303| Gross:$0.04M  \n",
       "998         NaN                                 Votes:33,806  \n",
       "999         NaN                                 Votes:33,725  \n",
       "\n",
       "[1000 rows x 9 columns]"
      ]
     },
     "execution_count": 33,
     "metadata": {},
     "output_type": "execute_result"
    }
   ],
   "source": [
    "dataset"
   ]
  },
  {
   "cell_type": "markdown",
   "id": "ca9c8dc7",
   "metadata": {},
   "source": [
    "## Data Preprocessing"
   ]
  },
  {
   "cell_type": "code",
   "execution_count": 34,
   "id": "edcd45e9",
   "metadata": {},
   "outputs": [],
   "source": [
    "import re"
   ]
  },
  {
   "cell_type": "code",
   "execution_count": 35,
   "id": "1fd8208f",
   "metadata": {},
   "outputs": [
    {
     "data": {
      "text/plain": [
       "'1000'"
      ]
     },
     "execution_count": 35,
     "metadata": {},
     "output_type": "execute_result"
    }
   ],
   "source": [
    "re.sub(r\"[^\\d]\",\"\",\"(1,000.)\")"
   ]
  },
  {
   "cell_type": "code",
   "execution_count": 36,
   "id": "a1528c59",
   "metadata": {},
   "outputs": [],
   "source": [
    "def parse_year(year):\n",
    "    if (pd.notna(year)):\n",
    "        year = re.sub(r\"[^\\d]\",\"\",str(year))\n",
    "        return int(year)\n",
    "    else:\n",
    "        return year"
   ]
  },
  {
   "cell_type": "code",
   "execution_count": 37,
   "id": "2d4a6f7b",
   "metadata": {},
   "outputs": [
    {
     "data": {
      "text/plain": [
       "0      2022\n",
       "1      2022\n",
       "2      2022\n",
       "3      2022\n",
       "4      2021\n",
       "       ... \n",
       "995    1999\n",
       "996    1998\n",
       "997    2012\n",
       "998    1971\n",
       "999    2009\n",
       "Name: Year, Length: 1000, dtype: int64"
      ]
     },
     "execution_count": 37,
     "metadata": {},
     "output_type": "execute_result"
    }
   ],
   "source": [
    "dataset[\"Year\"].apply(parse_year)"
   ]
  },
  {
   "cell_type": "code",
   "execution_count": 38,
   "id": "62311e4a",
   "metadata": {},
   "outputs": [],
   "source": [
    "dataset[[\"Year\",\"RunTime\",\"Rank\"]] = dataset[[\"Year\",\"RunTime\",\"Rank\"]].applymap(parse_year)"
   ]
  },
  {
   "cell_type": "code",
   "execution_count": 39,
   "id": "e3e4cb54",
   "metadata": {},
   "outputs": [
    {
     "data": {
      "text/html": [
       "<div>\n",
       "<style scoped>\n",
       "    .dataframe tbody tr th:only-of-type {\n",
       "        vertical-align: middle;\n",
       "    }\n",
       "\n",
       "    .dataframe tbody tr th {\n",
       "        vertical-align: top;\n",
       "    }\n",
       "\n",
       "    .dataframe thead th {\n",
       "        text-align: right;\n",
       "    }\n",
       "</style>\n",
       "<table border=\"1\" class=\"dataframe\">\n",
       "  <thead>\n",
       "    <tr style=\"text-align: right;\">\n",
       "      <th></th>\n",
       "      <th>Rank</th>\n",
       "      <th>Title</th>\n",
       "      <th>Year</th>\n",
       "      <th>Genre</th>\n",
       "      <th>Director</th>\n",
       "      <th>RunTime</th>\n",
       "      <th>Rating</th>\n",
       "      <th>MetaScore</th>\n",
       "      <th>VotesAll</th>\n",
       "    </tr>\n",
       "  </thead>\n",
       "  <tbody>\n",
       "    <tr>\n",
       "      <th>0</th>\n",
       "      <td>1</td>\n",
       "      <td>Top Gun: Maverick</td>\n",
       "      <td>2022</td>\n",
       "      <td>Action, Drama</td>\n",
       "      <td>Joseph Kosinski</td>\n",
       "      <td>130</td>\n",
       "      <td>8.5</td>\n",
       "      <td>78</td>\n",
       "      <td>Votes:324,613| Top 250:#60</td>\n",
       "    </tr>\n",
       "    <tr>\n",
       "      <th>1</th>\n",
       "      <td>2</td>\n",
       "      <td>Thirteen Lives</td>\n",
       "      <td>2022</td>\n",
       "      <td>Action, Adventure, Biography</td>\n",
       "      <td>Ron Howard</td>\n",
       "      <td>147</td>\n",
       "      <td>7.8</td>\n",
       "      <td>66</td>\n",
       "      <td>Votes:33,502</td>\n",
       "    </tr>\n",
       "    <tr>\n",
       "      <th>2</th>\n",
       "      <td>3</td>\n",
       "      <td>Everything Everywhere All at Once</td>\n",
       "      <td>2022</td>\n",
       "      <td>Action, Adventure, Comedy</td>\n",
       "      <td>Dan Kwan</td>\n",
       "      <td>139</td>\n",
       "      <td>8.2</td>\n",
       "      <td>81</td>\n",
       "      <td>Votes:188,809| Top 250:#183</td>\n",
       "    </tr>\n",
       "    <tr>\n",
       "      <th>3</th>\n",
       "      <td>4</td>\n",
       "      <td>The Batman</td>\n",
       "      <td>2022</td>\n",
       "      <td>Action, Crime, Drama</td>\n",
       "      <td>Matt Reeves</td>\n",
       "      <td>176</td>\n",
       "      <td>7.9</td>\n",
       "      <td>72</td>\n",
       "      <td>Votes:582,166</td>\n",
       "    </tr>\n",
       "    <tr>\n",
       "      <th>4</th>\n",
       "      <td>5</td>\n",
       "      <td>Spider-Man: No Way Home</td>\n",
       "      <td>2021</td>\n",
       "      <td>Action, Adventure, Fantasy</td>\n",
       "      <td>Jon Watts</td>\n",
       "      <td>148</td>\n",
       "      <td>8.3</td>\n",
       "      <td>71</td>\n",
       "      <td>Votes:713,789| Gross:$804.75M| Top 250:#134</td>\n",
       "    </tr>\n",
       "    <tr>\n",
       "      <th>...</th>\n",
       "      <td>...</td>\n",
       "      <td>...</td>\n",
       "      <td>...</td>\n",
       "      <td>...</td>\n",
       "      <td>...</td>\n",
       "      <td>...</td>\n",
       "      <td>...</td>\n",
       "      <td>...</td>\n",
       "      <td>...</td>\n",
       "    </tr>\n",
       "    <tr>\n",
       "      <th>995</th>\n",
       "      <td>996</td>\n",
       "      <td>Sarfarosh</td>\n",
       "      <td>1999</td>\n",
       "      <td>Action, Drama, Thriller</td>\n",
       "      <td>John Mathew Matthan</td>\n",
       "      <td>174</td>\n",
       "      <td>8.1</td>\n",
       "      <td>NaN</td>\n",
       "      <td>Votes:25,750</td>\n",
       "    </tr>\n",
       "    <tr>\n",
       "      <th>996</th>\n",
       "      <td>997</td>\n",
       "      <td>Everything's Gonna Be Great</td>\n",
       "      <td>1998</td>\n",
       "      <td>Comedy, Drama, Thriller</td>\n",
       "      <td>Ömer Vargi</td>\n",
       "      <td>107</td>\n",
       "      <td>8.1</td>\n",
       "      <td>NaN</td>\n",
       "      <td>Votes:25,512</td>\n",
       "    </tr>\n",
       "    <tr>\n",
       "      <th>997</th>\n",
       "      <td>998</td>\n",
       "      <td>Paan Singh Tomar</td>\n",
       "      <td>2012</td>\n",
       "      <td>Action, Biography, Crime</td>\n",
       "      <td>Tigmanshu Dhulia</td>\n",
       "      <td>135</td>\n",
       "      <td>8.2</td>\n",
       "      <td>NaN</td>\n",
       "      <td>Votes:36,303| Gross:$0.04M</td>\n",
       "    </tr>\n",
       "    <tr>\n",
       "      <th>998</th>\n",
       "      <td>999</td>\n",
       "      <td>Anand</td>\n",
       "      <td>1971</td>\n",
       "      <td>Drama, Musical</td>\n",
       "      <td>Hrishikesh Mukherjee</td>\n",
       "      <td>122</td>\n",
       "      <td>8.1</td>\n",
       "      <td>NaN</td>\n",
       "      <td>Votes:33,806</td>\n",
       "    </tr>\n",
       "    <tr>\n",
       "      <th>999</th>\n",
       "      <td>1000</td>\n",
       "      <td>The Breath</td>\n",
       "      <td>2009</td>\n",
       "      <td>Action, Drama, Thriller</td>\n",
       "      <td>Levent Semerci</td>\n",
       "      <td>128</td>\n",
       "      <td>7.9</td>\n",
       "      <td>NaN</td>\n",
       "      <td>Votes:33,725</td>\n",
       "    </tr>\n",
       "  </tbody>\n",
       "</table>\n",
       "<p>1000 rows × 9 columns</p>\n",
       "</div>"
      ],
      "text/plain": [
       "     Rank                              Title  Year  \\\n",
       "0       1                  Top Gun: Maverick  2022   \n",
       "1       2                     Thirteen Lives  2022   \n",
       "2       3  Everything Everywhere All at Once  2022   \n",
       "3       4                         The Batman  2022   \n",
       "4       5            Spider-Man: No Way Home  2021   \n",
       "..    ...                                ...   ...   \n",
       "995   996                          Sarfarosh  1999   \n",
       "996   997        Everything's Gonna Be Great  1998   \n",
       "997   998                   Paan Singh Tomar  2012   \n",
       "998   999                              Anand  1971   \n",
       "999  1000                         The Breath  2009   \n",
       "\n",
       "                            Genre              Director  RunTime  Rating  \\\n",
       "0                   Action, Drama       Joseph Kosinski      130     8.5   \n",
       "1    Action, Adventure, Biography            Ron Howard      147     7.8   \n",
       "2       Action, Adventure, Comedy              Dan Kwan      139     8.2   \n",
       "3            Action, Crime, Drama           Matt Reeves      176     7.9   \n",
       "4      Action, Adventure, Fantasy             Jon Watts      148     8.3   \n",
       "..                            ...                   ...      ...     ...   \n",
       "995       Action, Drama, Thriller   John Mathew Matthan      174     8.1   \n",
       "996       Comedy, Drama, Thriller            Ömer Vargi      107     8.1   \n",
       "997      Action, Biography, Crime      Tigmanshu Dhulia      135     8.2   \n",
       "998                Drama, Musical  Hrishikesh Mukherjee      122     8.1   \n",
       "999       Action, Drama, Thriller        Levent Semerci      128     7.9   \n",
       "\n",
       "      MetaScore                                     VotesAll  \n",
       "0    78                           Votes:324,613| Top 250:#60  \n",
       "1    66                                         Votes:33,502  \n",
       "2    81                          Votes:188,809| Top 250:#183  \n",
       "3    72                                        Votes:582,166  \n",
       "4    71          Votes:713,789| Gross:$804.75M| Top 250:#134  \n",
       "..          ...                                          ...  \n",
       "995         NaN                                 Votes:25,750  \n",
       "996         NaN                                 Votes:25,512  \n",
       "997         NaN                   Votes:36,303| Gross:$0.04M  \n",
       "998         NaN                                 Votes:33,806  \n",
       "999         NaN                                 Votes:33,725  \n",
       "\n",
       "[1000 rows x 9 columns]"
      ]
     },
     "execution_count": 39,
     "metadata": {},
     "output_type": "execute_result"
    }
   ],
   "source": [
    "dataset"
   ]
  },
  {
   "cell_type": "code",
   "execution_count": 40,
   "id": "492d06c4",
   "metadata": {},
   "outputs": [
    {
     "data": {
      "text/plain": [
       "Rank           int64\n",
       "Title         object\n",
       "Year           int64\n",
       "Genre         object\n",
       "Director      object\n",
       "RunTime        int64\n",
       "Rating       float64\n",
       "MetaScore     object\n",
       "VotesAll      object\n",
       "dtype: object"
      ]
     },
     "execution_count": 40,
     "metadata": {},
     "output_type": "execute_result"
    }
   ],
   "source": [
    "dataset.dtypes"
   ]
  },
  {
   "cell_type": "code",
   "execution_count": 41,
   "id": "df907712",
   "metadata": {},
   "outputs": [
    {
     "data": {
      "text/plain": [
       "'Votes:713,789| Gross:$804.75M| Top 250:#134'"
      ]
     },
     "execution_count": 41,
     "metadata": {},
     "output_type": "execute_result"
    }
   ],
   "source": [
    "dataset[\"VotesAll\"][4]"
   ]
  },
  {
   "cell_type": "code",
   "execution_count": 42,
   "id": "67d2fad8",
   "metadata": {},
   "outputs": [],
   "source": [
    "votes = r\"Votes:\\d+,\\d+,?\\d+\"\n",
    "gross = r\"Gross:\\$[0-9]+.[0-9]+M\""
   ]
  },
  {
   "cell_type": "code",
   "execution_count": 43,
   "id": "0d3c03f3",
   "metadata": {},
   "outputs": [],
   "source": [
    "dataset[\"Votes\"] = dataset[\"VotesAll\"].apply(lambda x : re.search(votes,x).group() if re.search(votes,x) != None else np.NaN)"
   ]
  },
  {
   "cell_type": "code",
   "execution_count": 44,
   "id": "d5416550",
   "metadata": {},
   "outputs": [],
   "source": [
    "features_dict = {\"Votes\":votes, \"Gross\":gross}"
   ]
  },
  {
   "cell_type": "code",
   "execution_count": 45,
   "id": "f8f45c78",
   "metadata": {},
   "outputs": [],
   "source": [
    "for col_name, pattern in features_dict.items():\n",
    "    dataset[col_name] = dataset[\"VotesAll\"].apply(lambda x : re.search(pattern,x).group() if re.search(pattern,x) != None else np.NaN)"
   ]
  },
  {
   "cell_type": "code",
   "execution_count": 46,
   "id": "6c429788",
   "metadata": {},
   "outputs": [
    {
     "data": {
      "text/html": [
       "<div>\n",
       "<style scoped>\n",
       "    .dataframe tbody tr th:only-of-type {\n",
       "        vertical-align: middle;\n",
       "    }\n",
       "\n",
       "    .dataframe tbody tr th {\n",
       "        vertical-align: top;\n",
       "    }\n",
       "\n",
       "    .dataframe thead th {\n",
       "        text-align: right;\n",
       "    }\n",
       "</style>\n",
       "<table border=\"1\" class=\"dataframe\">\n",
       "  <thead>\n",
       "    <tr style=\"text-align: right;\">\n",
       "      <th></th>\n",
       "      <th>Rank</th>\n",
       "      <th>Title</th>\n",
       "      <th>Year</th>\n",
       "      <th>Genre</th>\n",
       "      <th>Director</th>\n",
       "      <th>RunTime</th>\n",
       "      <th>Rating</th>\n",
       "      <th>MetaScore</th>\n",
       "      <th>VotesAll</th>\n",
       "      <th>Votes</th>\n",
       "      <th>Gross</th>\n",
       "    </tr>\n",
       "  </thead>\n",
       "  <tbody>\n",
       "    <tr>\n",
       "      <th>0</th>\n",
       "      <td>1</td>\n",
       "      <td>Top Gun: Maverick</td>\n",
       "      <td>2022</td>\n",
       "      <td>Action, Drama</td>\n",
       "      <td>Joseph Kosinski</td>\n",
       "      <td>130</td>\n",
       "      <td>8.5</td>\n",
       "      <td>78</td>\n",
       "      <td>Votes:324,613| Top 250:#60</td>\n",
       "      <td>Votes:324,613</td>\n",
       "      <td>NaN</td>\n",
       "    </tr>\n",
       "    <tr>\n",
       "      <th>1</th>\n",
       "      <td>2</td>\n",
       "      <td>Thirteen Lives</td>\n",
       "      <td>2022</td>\n",
       "      <td>Action, Adventure, Biography</td>\n",
       "      <td>Ron Howard</td>\n",
       "      <td>147</td>\n",
       "      <td>7.8</td>\n",
       "      <td>66</td>\n",
       "      <td>Votes:33,502</td>\n",
       "      <td>Votes:33,502</td>\n",
       "      <td>NaN</td>\n",
       "    </tr>\n",
       "    <tr>\n",
       "      <th>2</th>\n",
       "      <td>3</td>\n",
       "      <td>Everything Everywhere All at Once</td>\n",
       "      <td>2022</td>\n",
       "      <td>Action, Adventure, Comedy</td>\n",
       "      <td>Dan Kwan</td>\n",
       "      <td>139</td>\n",
       "      <td>8.2</td>\n",
       "      <td>81</td>\n",
       "      <td>Votes:188,809| Top 250:#183</td>\n",
       "      <td>Votes:188,809</td>\n",
       "      <td>NaN</td>\n",
       "    </tr>\n",
       "    <tr>\n",
       "      <th>3</th>\n",
       "      <td>4</td>\n",
       "      <td>The Batman</td>\n",
       "      <td>2022</td>\n",
       "      <td>Action, Crime, Drama</td>\n",
       "      <td>Matt Reeves</td>\n",
       "      <td>176</td>\n",
       "      <td>7.9</td>\n",
       "      <td>72</td>\n",
       "      <td>Votes:582,166</td>\n",
       "      <td>Votes:582,166</td>\n",
       "      <td>NaN</td>\n",
       "    </tr>\n",
       "    <tr>\n",
       "      <th>4</th>\n",
       "      <td>5</td>\n",
       "      <td>Spider-Man: No Way Home</td>\n",
       "      <td>2021</td>\n",
       "      <td>Action, Adventure, Fantasy</td>\n",
       "      <td>Jon Watts</td>\n",
       "      <td>148</td>\n",
       "      <td>8.3</td>\n",
       "      <td>71</td>\n",
       "      <td>Votes:713,789| Gross:$804.75M| Top 250:#134</td>\n",
       "      <td>Votes:713,789</td>\n",
       "      <td>Gross:$804.75M</td>\n",
       "    </tr>\n",
       "    <tr>\n",
       "      <th>...</th>\n",
       "      <td>...</td>\n",
       "      <td>...</td>\n",
       "      <td>...</td>\n",
       "      <td>...</td>\n",
       "      <td>...</td>\n",
       "      <td>...</td>\n",
       "      <td>...</td>\n",
       "      <td>...</td>\n",
       "      <td>...</td>\n",
       "      <td>...</td>\n",
       "      <td>...</td>\n",
       "    </tr>\n",
       "    <tr>\n",
       "      <th>995</th>\n",
       "      <td>996</td>\n",
       "      <td>Sarfarosh</td>\n",
       "      <td>1999</td>\n",
       "      <td>Action, Drama, Thriller</td>\n",
       "      <td>John Mathew Matthan</td>\n",
       "      <td>174</td>\n",
       "      <td>8.1</td>\n",
       "      <td>NaN</td>\n",
       "      <td>Votes:25,750</td>\n",
       "      <td>Votes:25,750</td>\n",
       "      <td>NaN</td>\n",
       "    </tr>\n",
       "    <tr>\n",
       "      <th>996</th>\n",
       "      <td>997</td>\n",
       "      <td>Everything's Gonna Be Great</td>\n",
       "      <td>1998</td>\n",
       "      <td>Comedy, Drama, Thriller</td>\n",
       "      <td>Ömer Vargi</td>\n",
       "      <td>107</td>\n",
       "      <td>8.1</td>\n",
       "      <td>NaN</td>\n",
       "      <td>Votes:25,512</td>\n",
       "      <td>Votes:25,512</td>\n",
       "      <td>NaN</td>\n",
       "    </tr>\n",
       "    <tr>\n",
       "      <th>997</th>\n",
       "      <td>998</td>\n",
       "      <td>Paan Singh Tomar</td>\n",
       "      <td>2012</td>\n",
       "      <td>Action, Biography, Crime</td>\n",
       "      <td>Tigmanshu Dhulia</td>\n",
       "      <td>135</td>\n",
       "      <td>8.2</td>\n",
       "      <td>NaN</td>\n",
       "      <td>Votes:36,303| Gross:$0.04M</td>\n",
       "      <td>Votes:36,303</td>\n",
       "      <td>Gross:$0.04M</td>\n",
       "    </tr>\n",
       "    <tr>\n",
       "      <th>998</th>\n",
       "      <td>999</td>\n",
       "      <td>Anand</td>\n",
       "      <td>1971</td>\n",
       "      <td>Drama, Musical</td>\n",
       "      <td>Hrishikesh Mukherjee</td>\n",
       "      <td>122</td>\n",
       "      <td>8.1</td>\n",
       "      <td>NaN</td>\n",
       "      <td>Votes:33,806</td>\n",
       "      <td>Votes:33,806</td>\n",
       "      <td>NaN</td>\n",
       "    </tr>\n",
       "    <tr>\n",
       "      <th>999</th>\n",
       "      <td>1000</td>\n",
       "      <td>The Breath</td>\n",
       "      <td>2009</td>\n",
       "      <td>Action, Drama, Thriller</td>\n",
       "      <td>Levent Semerci</td>\n",
       "      <td>128</td>\n",
       "      <td>7.9</td>\n",
       "      <td>NaN</td>\n",
       "      <td>Votes:33,725</td>\n",
       "      <td>Votes:33,725</td>\n",
       "      <td>NaN</td>\n",
       "    </tr>\n",
       "  </tbody>\n",
       "</table>\n",
       "<p>1000 rows × 11 columns</p>\n",
       "</div>"
      ],
      "text/plain": [
       "     Rank                              Title  Year  \\\n",
       "0       1                  Top Gun: Maverick  2022   \n",
       "1       2                     Thirteen Lives  2022   \n",
       "2       3  Everything Everywhere All at Once  2022   \n",
       "3       4                         The Batman  2022   \n",
       "4       5            Spider-Man: No Way Home  2021   \n",
       "..    ...                                ...   ...   \n",
       "995   996                          Sarfarosh  1999   \n",
       "996   997        Everything's Gonna Be Great  1998   \n",
       "997   998                   Paan Singh Tomar  2012   \n",
       "998   999                              Anand  1971   \n",
       "999  1000                         The Breath  2009   \n",
       "\n",
       "                            Genre              Director  RunTime  Rating  \\\n",
       "0                   Action, Drama       Joseph Kosinski      130     8.5   \n",
       "1    Action, Adventure, Biography            Ron Howard      147     7.8   \n",
       "2       Action, Adventure, Comedy              Dan Kwan      139     8.2   \n",
       "3            Action, Crime, Drama           Matt Reeves      176     7.9   \n",
       "4      Action, Adventure, Fantasy             Jon Watts      148     8.3   \n",
       "..                            ...                   ...      ...     ...   \n",
       "995       Action, Drama, Thriller   John Mathew Matthan      174     8.1   \n",
       "996       Comedy, Drama, Thriller            Ömer Vargi      107     8.1   \n",
       "997      Action, Biography, Crime      Tigmanshu Dhulia      135     8.2   \n",
       "998                Drama, Musical  Hrishikesh Mukherjee      122     8.1   \n",
       "999       Action, Drama, Thriller        Levent Semerci      128     7.9   \n",
       "\n",
       "      MetaScore                                     VotesAll          Votes  \\\n",
       "0    78                           Votes:324,613| Top 250:#60  Votes:324,613   \n",
       "1    66                                         Votes:33,502   Votes:33,502   \n",
       "2    81                          Votes:188,809| Top 250:#183  Votes:188,809   \n",
       "3    72                                        Votes:582,166  Votes:582,166   \n",
       "4    71          Votes:713,789| Gross:$804.75M| Top 250:#134  Votes:713,789   \n",
       "..          ...                                          ...            ...   \n",
       "995         NaN                                 Votes:25,750   Votes:25,750   \n",
       "996         NaN                                 Votes:25,512   Votes:25,512   \n",
       "997         NaN                   Votes:36,303| Gross:$0.04M   Votes:36,303   \n",
       "998         NaN                                 Votes:33,806   Votes:33,806   \n",
       "999         NaN                                 Votes:33,725   Votes:33,725   \n",
       "\n",
       "              Gross  \n",
       "0               NaN  \n",
       "1               NaN  \n",
       "2               NaN  \n",
       "3               NaN  \n",
       "4    Gross:$804.75M  \n",
       "..              ...  \n",
       "995             NaN  \n",
       "996             NaN  \n",
       "997    Gross:$0.04M  \n",
       "998             NaN  \n",
       "999             NaN  \n",
       "\n",
       "[1000 rows x 11 columns]"
      ]
     },
     "execution_count": 46,
     "metadata": {},
     "output_type": "execute_result"
    }
   ],
   "source": [
    "dataset"
   ]
  },
  {
   "cell_type": "code",
   "execution_count": 47,
   "id": "2aead437",
   "metadata": {},
   "outputs": [],
   "source": [
    "dataset.drop(\"VotesAll\", axis =1, inplace = True)"
   ]
  },
  {
   "cell_type": "code",
   "execution_count": 48,
   "id": "d8bee771",
   "metadata": {},
   "outputs": [
    {
     "data": {
      "text/html": [
       "<div>\n",
       "<style scoped>\n",
       "    .dataframe tbody tr th:only-of-type {\n",
       "        vertical-align: middle;\n",
       "    }\n",
       "\n",
       "    .dataframe tbody tr th {\n",
       "        vertical-align: top;\n",
       "    }\n",
       "\n",
       "    .dataframe thead th {\n",
       "        text-align: right;\n",
       "    }\n",
       "</style>\n",
       "<table border=\"1\" class=\"dataframe\">\n",
       "  <thead>\n",
       "    <tr style=\"text-align: right;\">\n",
       "      <th></th>\n",
       "      <th>Rank</th>\n",
       "      <th>Title</th>\n",
       "      <th>Year</th>\n",
       "      <th>Genre</th>\n",
       "      <th>Director</th>\n",
       "      <th>RunTime</th>\n",
       "      <th>Rating</th>\n",
       "      <th>MetaScore</th>\n",
       "      <th>Votes</th>\n",
       "      <th>Gross</th>\n",
       "    </tr>\n",
       "  </thead>\n",
       "  <tbody>\n",
       "    <tr>\n",
       "      <th>0</th>\n",
       "      <td>1</td>\n",
       "      <td>Top Gun: Maverick</td>\n",
       "      <td>2022</td>\n",
       "      <td>Action, Drama</td>\n",
       "      <td>Joseph Kosinski</td>\n",
       "      <td>130</td>\n",
       "      <td>8.5</td>\n",
       "      <td>78</td>\n",
       "      <td>Votes:324,613</td>\n",
       "      <td>NaN</td>\n",
       "    </tr>\n",
       "    <tr>\n",
       "      <th>1</th>\n",
       "      <td>2</td>\n",
       "      <td>Thirteen Lives</td>\n",
       "      <td>2022</td>\n",
       "      <td>Action, Adventure, Biography</td>\n",
       "      <td>Ron Howard</td>\n",
       "      <td>147</td>\n",
       "      <td>7.8</td>\n",
       "      <td>66</td>\n",
       "      <td>Votes:33,502</td>\n",
       "      <td>NaN</td>\n",
       "    </tr>\n",
       "    <tr>\n",
       "      <th>2</th>\n",
       "      <td>3</td>\n",
       "      <td>Everything Everywhere All at Once</td>\n",
       "      <td>2022</td>\n",
       "      <td>Action, Adventure, Comedy</td>\n",
       "      <td>Dan Kwan</td>\n",
       "      <td>139</td>\n",
       "      <td>8.2</td>\n",
       "      <td>81</td>\n",
       "      <td>Votes:188,809</td>\n",
       "      <td>NaN</td>\n",
       "    </tr>\n",
       "    <tr>\n",
       "      <th>3</th>\n",
       "      <td>4</td>\n",
       "      <td>The Batman</td>\n",
       "      <td>2022</td>\n",
       "      <td>Action, Crime, Drama</td>\n",
       "      <td>Matt Reeves</td>\n",
       "      <td>176</td>\n",
       "      <td>7.9</td>\n",
       "      <td>72</td>\n",
       "      <td>Votes:582,166</td>\n",
       "      <td>NaN</td>\n",
       "    </tr>\n",
       "    <tr>\n",
       "      <th>4</th>\n",
       "      <td>5</td>\n",
       "      <td>Spider-Man: No Way Home</td>\n",
       "      <td>2021</td>\n",
       "      <td>Action, Adventure, Fantasy</td>\n",
       "      <td>Jon Watts</td>\n",
       "      <td>148</td>\n",
       "      <td>8.3</td>\n",
       "      <td>71</td>\n",
       "      <td>Votes:713,789</td>\n",
       "      <td>Gross:$804.75M</td>\n",
       "    </tr>\n",
       "    <tr>\n",
       "      <th>...</th>\n",
       "      <td>...</td>\n",
       "      <td>...</td>\n",
       "      <td>...</td>\n",
       "      <td>...</td>\n",
       "      <td>...</td>\n",
       "      <td>...</td>\n",
       "      <td>...</td>\n",
       "      <td>...</td>\n",
       "      <td>...</td>\n",
       "      <td>...</td>\n",
       "    </tr>\n",
       "    <tr>\n",
       "      <th>995</th>\n",
       "      <td>996</td>\n",
       "      <td>Sarfarosh</td>\n",
       "      <td>1999</td>\n",
       "      <td>Action, Drama, Thriller</td>\n",
       "      <td>John Mathew Matthan</td>\n",
       "      <td>174</td>\n",
       "      <td>8.1</td>\n",
       "      <td>NaN</td>\n",
       "      <td>Votes:25,750</td>\n",
       "      <td>NaN</td>\n",
       "    </tr>\n",
       "    <tr>\n",
       "      <th>996</th>\n",
       "      <td>997</td>\n",
       "      <td>Everything's Gonna Be Great</td>\n",
       "      <td>1998</td>\n",
       "      <td>Comedy, Drama, Thriller</td>\n",
       "      <td>Ömer Vargi</td>\n",
       "      <td>107</td>\n",
       "      <td>8.1</td>\n",
       "      <td>NaN</td>\n",
       "      <td>Votes:25,512</td>\n",
       "      <td>NaN</td>\n",
       "    </tr>\n",
       "    <tr>\n",
       "      <th>997</th>\n",
       "      <td>998</td>\n",
       "      <td>Paan Singh Tomar</td>\n",
       "      <td>2012</td>\n",
       "      <td>Action, Biography, Crime</td>\n",
       "      <td>Tigmanshu Dhulia</td>\n",
       "      <td>135</td>\n",
       "      <td>8.2</td>\n",
       "      <td>NaN</td>\n",
       "      <td>Votes:36,303</td>\n",
       "      <td>Gross:$0.04M</td>\n",
       "    </tr>\n",
       "    <tr>\n",
       "      <th>998</th>\n",
       "      <td>999</td>\n",
       "      <td>Anand</td>\n",
       "      <td>1971</td>\n",
       "      <td>Drama, Musical</td>\n",
       "      <td>Hrishikesh Mukherjee</td>\n",
       "      <td>122</td>\n",
       "      <td>8.1</td>\n",
       "      <td>NaN</td>\n",
       "      <td>Votes:33,806</td>\n",
       "      <td>NaN</td>\n",
       "    </tr>\n",
       "    <tr>\n",
       "      <th>999</th>\n",
       "      <td>1000</td>\n",
       "      <td>The Breath</td>\n",
       "      <td>2009</td>\n",
       "      <td>Action, Drama, Thriller</td>\n",
       "      <td>Levent Semerci</td>\n",
       "      <td>128</td>\n",
       "      <td>7.9</td>\n",
       "      <td>NaN</td>\n",
       "      <td>Votes:33,725</td>\n",
       "      <td>NaN</td>\n",
       "    </tr>\n",
       "  </tbody>\n",
       "</table>\n",
       "<p>1000 rows × 10 columns</p>\n",
       "</div>"
      ],
      "text/plain": [
       "     Rank                              Title  Year  \\\n",
       "0       1                  Top Gun: Maverick  2022   \n",
       "1       2                     Thirteen Lives  2022   \n",
       "2       3  Everything Everywhere All at Once  2022   \n",
       "3       4                         The Batman  2022   \n",
       "4       5            Spider-Man: No Way Home  2021   \n",
       "..    ...                                ...   ...   \n",
       "995   996                          Sarfarosh  1999   \n",
       "996   997        Everything's Gonna Be Great  1998   \n",
       "997   998                   Paan Singh Tomar  2012   \n",
       "998   999                              Anand  1971   \n",
       "999  1000                         The Breath  2009   \n",
       "\n",
       "                            Genre              Director  RunTime  Rating  \\\n",
       "0                   Action, Drama       Joseph Kosinski      130     8.5   \n",
       "1    Action, Adventure, Biography            Ron Howard      147     7.8   \n",
       "2       Action, Adventure, Comedy              Dan Kwan      139     8.2   \n",
       "3            Action, Crime, Drama           Matt Reeves      176     7.9   \n",
       "4      Action, Adventure, Fantasy             Jon Watts      148     8.3   \n",
       "..                            ...                   ...      ...     ...   \n",
       "995       Action, Drama, Thriller   John Mathew Matthan      174     8.1   \n",
       "996       Comedy, Drama, Thriller            Ömer Vargi      107     8.1   \n",
       "997      Action, Biography, Crime      Tigmanshu Dhulia      135     8.2   \n",
       "998                Drama, Musical  Hrishikesh Mukherjee      122     8.1   \n",
       "999       Action, Drama, Thriller        Levent Semerci      128     7.9   \n",
       "\n",
       "      MetaScore          Votes           Gross  \n",
       "0    78          Votes:324,613             NaN  \n",
       "1    66           Votes:33,502             NaN  \n",
       "2    81          Votes:188,809             NaN  \n",
       "3    72          Votes:582,166             NaN  \n",
       "4    71          Votes:713,789  Gross:$804.75M  \n",
       "..          ...            ...             ...  \n",
       "995         NaN   Votes:25,750             NaN  \n",
       "996         NaN   Votes:25,512             NaN  \n",
       "997         NaN   Votes:36,303    Gross:$0.04M  \n",
       "998         NaN   Votes:33,806             NaN  \n",
       "999         NaN   Votes:33,725             NaN  \n",
       "\n",
       "[1000 rows x 10 columns]"
      ]
     },
     "execution_count": 48,
     "metadata": {},
     "output_type": "execute_result"
    }
   ],
   "source": [
    "dataset"
   ]
  },
  {
   "cell_type": "code",
   "execution_count": 56,
   "id": "63aede2e",
   "metadata": {},
   "outputs": [
    {
     "data": {
      "text/plain": [
       "Rank         False\n",
       "Title        False\n",
       "Year         False\n",
       "Genre        False\n",
       "Director     False\n",
       "RunTime      False\n",
       "Rating       False\n",
       "MetaScore     True\n",
       "Votes        False\n",
       "Gross         True\n",
       "dtype: bool"
      ]
     },
     "execution_count": 56,
     "metadata": {},
     "output_type": "execute_result"
    }
   ],
   "source": [
    "dataset.isnull().any()"
   ]
  },
  {
   "cell_type": "code",
   "execution_count": 57,
   "id": "0339467f",
   "metadata": {},
   "outputs": [
    {
     "data": {
      "text/plain": [
       "'1801079'"
      ]
     },
     "execution_count": 57,
     "metadata": {},
     "output_type": "execute_result"
    }
   ],
   "source": [
    "re.sub(r\"[^0-9]\",\"\",\"Votes:1,801,079\")"
   ]
  },
  {
   "cell_type": "code",
   "execution_count": 54,
   "id": "f7d93893",
   "metadata": {},
   "outputs": [],
   "source": [
    "def parse_votes(votes):\n",
    "    if (pd.notna(votes)):\n",
    "        votes = re.sub(r\"[^0-9.]\",\"\",str(votes))\n",
    "        return votes\n",
    "    else:\n",
    "        return votes"
   ]
  },
  {
   "cell_type": "code",
   "execution_count": 55,
   "id": "6054c4b9",
   "metadata": {},
   "outputs": [
    {
     "data": {
      "text/plain": [
       "0      324613\n",
       "1       33502\n",
       "2      188809\n",
       "3      582166\n",
       "4      713789\n",
       "        ...  \n",
       "995     25750\n",
       "996     25512\n",
       "997     36303\n",
       "998     33806\n",
       "999     33725\n",
       "Name: Votes, Length: 1000, dtype: object"
      ]
     },
     "execution_count": 55,
     "metadata": {},
     "output_type": "execute_result"
    }
   ],
   "source": [
    "dataset[\"Votes\"].apply(parse_votes)"
   ]
  },
  {
   "cell_type": "code",
   "execution_count": 56,
   "id": "13c66efa",
   "metadata": {},
   "outputs": [],
   "source": [
    "dataset[[\"Votes\",\"Gross\"]]= dataset[[\"Votes\",\"Gross\"]].applymap(parse_votes)"
   ]
  },
  {
   "cell_type": "code",
   "execution_count": 57,
   "id": "6edbaee7",
   "metadata": {},
   "outputs": [
    {
     "data": {
      "text/html": [
       "<div>\n",
       "<style scoped>\n",
       "    .dataframe tbody tr th:only-of-type {\n",
       "        vertical-align: middle;\n",
       "    }\n",
       "\n",
       "    .dataframe tbody tr th {\n",
       "        vertical-align: top;\n",
       "    }\n",
       "\n",
       "    .dataframe thead th {\n",
       "        text-align: right;\n",
       "    }\n",
       "</style>\n",
       "<table border=\"1\" class=\"dataframe\">\n",
       "  <thead>\n",
       "    <tr style=\"text-align: right;\">\n",
       "      <th></th>\n",
       "      <th>Rank</th>\n",
       "      <th>Title</th>\n",
       "      <th>Year</th>\n",
       "      <th>Genre</th>\n",
       "      <th>Director</th>\n",
       "      <th>RunTime</th>\n",
       "      <th>Rating</th>\n",
       "      <th>MetaScore</th>\n",
       "      <th>Votes</th>\n",
       "      <th>Gross</th>\n",
       "    </tr>\n",
       "  </thead>\n",
       "  <tbody>\n",
       "    <tr>\n",
       "      <th>0</th>\n",
       "      <td>1</td>\n",
       "      <td>Top Gun: Maverick</td>\n",
       "      <td>2022</td>\n",
       "      <td>Action, Drama</td>\n",
       "      <td>Joseph Kosinski</td>\n",
       "      <td>130</td>\n",
       "      <td>8.5</td>\n",
       "      <td>78</td>\n",
       "      <td>324613</td>\n",
       "      <td>NaN</td>\n",
       "    </tr>\n",
       "    <tr>\n",
       "      <th>1</th>\n",
       "      <td>2</td>\n",
       "      <td>Thirteen Lives</td>\n",
       "      <td>2022</td>\n",
       "      <td>Action, Adventure, Biography</td>\n",
       "      <td>Ron Howard</td>\n",
       "      <td>147</td>\n",
       "      <td>7.8</td>\n",
       "      <td>66</td>\n",
       "      <td>33502</td>\n",
       "      <td>NaN</td>\n",
       "    </tr>\n",
       "    <tr>\n",
       "      <th>2</th>\n",
       "      <td>3</td>\n",
       "      <td>Everything Everywhere All at Once</td>\n",
       "      <td>2022</td>\n",
       "      <td>Action, Adventure, Comedy</td>\n",
       "      <td>Dan Kwan</td>\n",
       "      <td>139</td>\n",
       "      <td>8.2</td>\n",
       "      <td>81</td>\n",
       "      <td>188809</td>\n",
       "      <td>NaN</td>\n",
       "    </tr>\n",
       "    <tr>\n",
       "      <th>3</th>\n",
       "      <td>4</td>\n",
       "      <td>The Batman</td>\n",
       "      <td>2022</td>\n",
       "      <td>Action, Crime, Drama</td>\n",
       "      <td>Matt Reeves</td>\n",
       "      <td>176</td>\n",
       "      <td>7.9</td>\n",
       "      <td>72</td>\n",
       "      <td>582166</td>\n",
       "      <td>NaN</td>\n",
       "    </tr>\n",
       "    <tr>\n",
       "      <th>4</th>\n",
       "      <td>5</td>\n",
       "      <td>Spider-Man: No Way Home</td>\n",
       "      <td>2021</td>\n",
       "      <td>Action, Adventure, Fantasy</td>\n",
       "      <td>Jon Watts</td>\n",
       "      <td>148</td>\n",
       "      <td>8.3</td>\n",
       "      <td>71</td>\n",
       "      <td>713789</td>\n",
       "      <td>804.75</td>\n",
       "    </tr>\n",
       "    <tr>\n",
       "      <th>...</th>\n",
       "      <td>...</td>\n",
       "      <td>...</td>\n",
       "      <td>...</td>\n",
       "      <td>...</td>\n",
       "      <td>...</td>\n",
       "      <td>...</td>\n",
       "      <td>...</td>\n",
       "      <td>...</td>\n",
       "      <td>...</td>\n",
       "      <td>...</td>\n",
       "    </tr>\n",
       "    <tr>\n",
       "      <th>995</th>\n",
       "      <td>996</td>\n",
       "      <td>Sarfarosh</td>\n",
       "      <td>1999</td>\n",
       "      <td>Action, Drama, Thriller</td>\n",
       "      <td>John Mathew Matthan</td>\n",
       "      <td>174</td>\n",
       "      <td>8.1</td>\n",
       "      <td>NaN</td>\n",
       "      <td>25750</td>\n",
       "      <td>NaN</td>\n",
       "    </tr>\n",
       "    <tr>\n",
       "      <th>996</th>\n",
       "      <td>997</td>\n",
       "      <td>Everything's Gonna Be Great</td>\n",
       "      <td>1998</td>\n",
       "      <td>Comedy, Drama, Thriller</td>\n",
       "      <td>Ömer Vargi</td>\n",
       "      <td>107</td>\n",
       "      <td>8.1</td>\n",
       "      <td>NaN</td>\n",
       "      <td>25512</td>\n",
       "      <td>NaN</td>\n",
       "    </tr>\n",
       "    <tr>\n",
       "      <th>997</th>\n",
       "      <td>998</td>\n",
       "      <td>Paan Singh Tomar</td>\n",
       "      <td>2012</td>\n",
       "      <td>Action, Biography, Crime</td>\n",
       "      <td>Tigmanshu Dhulia</td>\n",
       "      <td>135</td>\n",
       "      <td>8.2</td>\n",
       "      <td>NaN</td>\n",
       "      <td>36303</td>\n",
       "      <td>0.04</td>\n",
       "    </tr>\n",
       "    <tr>\n",
       "      <th>998</th>\n",
       "      <td>999</td>\n",
       "      <td>Anand</td>\n",
       "      <td>1971</td>\n",
       "      <td>Drama, Musical</td>\n",
       "      <td>Hrishikesh Mukherjee</td>\n",
       "      <td>122</td>\n",
       "      <td>8.1</td>\n",
       "      <td>NaN</td>\n",
       "      <td>33806</td>\n",
       "      <td>NaN</td>\n",
       "    </tr>\n",
       "    <tr>\n",
       "      <th>999</th>\n",
       "      <td>1000</td>\n",
       "      <td>The Breath</td>\n",
       "      <td>2009</td>\n",
       "      <td>Action, Drama, Thriller</td>\n",
       "      <td>Levent Semerci</td>\n",
       "      <td>128</td>\n",
       "      <td>7.9</td>\n",
       "      <td>NaN</td>\n",
       "      <td>33725</td>\n",
       "      <td>NaN</td>\n",
       "    </tr>\n",
       "  </tbody>\n",
       "</table>\n",
       "<p>1000 rows × 10 columns</p>\n",
       "</div>"
      ],
      "text/plain": [
       "     Rank                              Title  Year  \\\n",
       "0       1                  Top Gun: Maverick  2022   \n",
       "1       2                     Thirteen Lives  2022   \n",
       "2       3  Everything Everywhere All at Once  2022   \n",
       "3       4                         The Batman  2022   \n",
       "4       5            Spider-Man: No Way Home  2021   \n",
       "..    ...                                ...   ...   \n",
       "995   996                          Sarfarosh  1999   \n",
       "996   997        Everything's Gonna Be Great  1998   \n",
       "997   998                   Paan Singh Tomar  2012   \n",
       "998   999                              Anand  1971   \n",
       "999  1000                         The Breath  2009   \n",
       "\n",
       "                            Genre              Director  RunTime  Rating  \\\n",
       "0                   Action, Drama       Joseph Kosinski      130     8.5   \n",
       "1    Action, Adventure, Biography            Ron Howard      147     7.8   \n",
       "2       Action, Adventure, Comedy              Dan Kwan      139     8.2   \n",
       "3            Action, Crime, Drama           Matt Reeves      176     7.9   \n",
       "4      Action, Adventure, Fantasy             Jon Watts      148     8.3   \n",
       "..                            ...                   ...      ...     ...   \n",
       "995       Action, Drama, Thriller   John Mathew Matthan      174     8.1   \n",
       "996       Comedy, Drama, Thriller            Ömer Vargi      107     8.1   \n",
       "997      Action, Biography, Crime      Tigmanshu Dhulia      135     8.2   \n",
       "998                Drama, Musical  Hrishikesh Mukherjee      122     8.1   \n",
       "999       Action, Drama, Thriller        Levent Semerci      128     7.9   \n",
       "\n",
       "      MetaScore   Votes   Gross  \n",
       "0    78          324613     NaN  \n",
       "1    66           33502     NaN  \n",
       "2    81          188809     NaN  \n",
       "3    72          582166     NaN  \n",
       "4    71          713789  804.75  \n",
       "..          ...     ...     ...  \n",
       "995         NaN   25750     NaN  \n",
       "996         NaN   25512     NaN  \n",
       "997         NaN   36303    0.04  \n",
       "998         NaN   33806     NaN  \n",
       "999         NaN   33725     NaN  \n",
       "\n",
       "[1000 rows x 10 columns]"
      ]
     },
     "execution_count": 57,
     "metadata": {},
     "output_type": "execute_result"
    }
   ],
   "source": [
    "dataset"
   ]
  },
  {
   "cell_type": "code",
   "execution_count": 58,
   "id": "210fec59",
   "metadata": {},
   "outputs": [
    {
     "data": {
      "text/plain": [
       "Rank           0\n",
       "Title          0\n",
       "Year           0\n",
       "Genre          0\n",
       "Director       0\n",
       "RunTime        0\n",
       "Rating         0\n",
       "MetaScore    161\n",
       "Votes          0\n",
       "Gross        184\n",
       "dtype: int64"
      ]
     },
     "execution_count": 58,
     "metadata": {},
     "output_type": "execute_result"
    }
   ],
   "source": [
    "dataset.isnull().sum()"
   ]
  },
  {
   "cell_type": "code",
   "execution_count": 59,
   "id": "ba963293",
   "metadata": {},
   "outputs": [],
   "source": [
    "dataset[\"MetaScore\"] = dataset[\"MetaScore\"].replace(np.NaN,0)"
   ]
  },
  {
   "cell_type": "code",
   "execution_count": 60,
   "id": "4a89dc9f",
   "metadata": {},
   "outputs": [],
   "source": [
    "dataset[\"Gross\"] = dataset[\"Gross\"].replace(np.NaN,0)"
   ]
  },
  {
   "cell_type": "code",
   "execution_count": 61,
   "id": "cb21e3d2",
   "metadata": {},
   "outputs": [
    {
     "data": {
      "text/html": [
       "<div>\n",
       "<style scoped>\n",
       "    .dataframe tbody tr th:only-of-type {\n",
       "        vertical-align: middle;\n",
       "    }\n",
       "\n",
       "    .dataframe tbody tr th {\n",
       "        vertical-align: top;\n",
       "    }\n",
       "\n",
       "    .dataframe thead th {\n",
       "        text-align: right;\n",
       "    }\n",
       "</style>\n",
       "<table border=\"1\" class=\"dataframe\">\n",
       "  <thead>\n",
       "    <tr style=\"text-align: right;\">\n",
       "      <th></th>\n",
       "      <th>Rank</th>\n",
       "      <th>Title</th>\n",
       "      <th>Year</th>\n",
       "      <th>Genre</th>\n",
       "      <th>Director</th>\n",
       "      <th>RunTime</th>\n",
       "      <th>Rating</th>\n",
       "      <th>MetaScore</th>\n",
       "      <th>Votes</th>\n",
       "      <th>Gross</th>\n",
       "    </tr>\n",
       "  </thead>\n",
       "  <tbody>\n",
       "    <tr>\n",
       "      <th>0</th>\n",
       "      <td>1</td>\n",
       "      <td>Top Gun: Maverick</td>\n",
       "      <td>2022</td>\n",
       "      <td>Action, Drama</td>\n",
       "      <td>Joseph Kosinski</td>\n",
       "      <td>130</td>\n",
       "      <td>8.5</td>\n",
       "      <td>78</td>\n",
       "      <td>324613</td>\n",
       "      <td>0</td>\n",
       "    </tr>\n",
       "    <tr>\n",
       "      <th>1</th>\n",
       "      <td>2</td>\n",
       "      <td>Thirteen Lives</td>\n",
       "      <td>2022</td>\n",
       "      <td>Action, Adventure, Biography</td>\n",
       "      <td>Ron Howard</td>\n",
       "      <td>147</td>\n",
       "      <td>7.8</td>\n",
       "      <td>66</td>\n",
       "      <td>33502</td>\n",
       "      <td>0</td>\n",
       "    </tr>\n",
       "    <tr>\n",
       "      <th>2</th>\n",
       "      <td>3</td>\n",
       "      <td>Everything Everywhere All at Once</td>\n",
       "      <td>2022</td>\n",
       "      <td>Action, Adventure, Comedy</td>\n",
       "      <td>Dan Kwan</td>\n",
       "      <td>139</td>\n",
       "      <td>8.2</td>\n",
       "      <td>81</td>\n",
       "      <td>188809</td>\n",
       "      <td>0</td>\n",
       "    </tr>\n",
       "    <tr>\n",
       "      <th>3</th>\n",
       "      <td>4</td>\n",
       "      <td>The Batman</td>\n",
       "      <td>2022</td>\n",
       "      <td>Action, Crime, Drama</td>\n",
       "      <td>Matt Reeves</td>\n",
       "      <td>176</td>\n",
       "      <td>7.9</td>\n",
       "      <td>72</td>\n",
       "      <td>582166</td>\n",
       "      <td>0</td>\n",
       "    </tr>\n",
       "    <tr>\n",
       "      <th>4</th>\n",
       "      <td>5</td>\n",
       "      <td>Spider-Man: No Way Home</td>\n",
       "      <td>2021</td>\n",
       "      <td>Action, Adventure, Fantasy</td>\n",
       "      <td>Jon Watts</td>\n",
       "      <td>148</td>\n",
       "      <td>8.3</td>\n",
       "      <td>71</td>\n",
       "      <td>713789</td>\n",
       "      <td>804.75</td>\n",
       "    </tr>\n",
       "    <tr>\n",
       "      <th>...</th>\n",
       "      <td>...</td>\n",
       "      <td>...</td>\n",
       "      <td>...</td>\n",
       "      <td>...</td>\n",
       "      <td>...</td>\n",
       "      <td>...</td>\n",
       "      <td>...</td>\n",
       "      <td>...</td>\n",
       "      <td>...</td>\n",
       "      <td>...</td>\n",
       "    </tr>\n",
       "    <tr>\n",
       "      <th>995</th>\n",
       "      <td>996</td>\n",
       "      <td>Sarfarosh</td>\n",
       "      <td>1999</td>\n",
       "      <td>Action, Drama, Thriller</td>\n",
       "      <td>John Mathew Matthan</td>\n",
       "      <td>174</td>\n",
       "      <td>8.1</td>\n",
       "      <td>0</td>\n",
       "      <td>25750</td>\n",
       "      <td>0</td>\n",
       "    </tr>\n",
       "    <tr>\n",
       "      <th>996</th>\n",
       "      <td>997</td>\n",
       "      <td>Everything's Gonna Be Great</td>\n",
       "      <td>1998</td>\n",
       "      <td>Comedy, Drama, Thriller</td>\n",
       "      <td>Ömer Vargi</td>\n",
       "      <td>107</td>\n",
       "      <td>8.1</td>\n",
       "      <td>0</td>\n",
       "      <td>25512</td>\n",
       "      <td>0</td>\n",
       "    </tr>\n",
       "    <tr>\n",
       "      <th>997</th>\n",
       "      <td>998</td>\n",
       "      <td>Paan Singh Tomar</td>\n",
       "      <td>2012</td>\n",
       "      <td>Action, Biography, Crime</td>\n",
       "      <td>Tigmanshu Dhulia</td>\n",
       "      <td>135</td>\n",
       "      <td>8.2</td>\n",
       "      <td>0</td>\n",
       "      <td>36303</td>\n",
       "      <td>0.04</td>\n",
       "    </tr>\n",
       "    <tr>\n",
       "      <th>998</th>\n",
       "      <td>999</td>\n",
       "      <td>Anand</td>\n",
       "      <td>1971</td>\n",
       "      <td>Drama, Musical</td>\n",
       "      <td>Hrishikesh Mukherjee</td>\n",
       "      <td>122</td>\n",
       "      <td>8.1</td>\n",
       "      <td>0</td>\n",
       "      <td>33806</td>\n",
       "      <td>0</td>\n",
       "    </tr>\n",
       "    <tr>\n",
       "      <th>999</th>\n",
       "      <td>1000</td>\n",
       "      <td>The Breath</td>\n",
       "      <td>2009</td>\n",
       "      <td>Action, Drama, Thriller</td>\n",
       "      <td>Levent Semerci</td>\n",
       "      <td>128</td>\n",
       "      <td>7.9</td>\n",
       "      <td>0</td>\n",
       "      <td>33725</td>\n",
       "      <td>0</td>\n",
       "    </tr>\n",
       "  </tbody>\n",
       "</table>\n",
       "<p>1000 rows × 10 columns</p>\n",
       "</div>"
      ],
      "text/plain": [
       "     Rank                              Title  Year  \\\n",
       "0       1                  Top Gun: Maverick  2022   \n",
       "1       2                     Thirteen Lives  2022   \n",
       "2       3  Everything Everywhere All at Once  2022   \n",
       "3       4                         The Batman  2022   \n",
       "4       5            Spider-Man: No Way Home  2021   \n",
       "..    ...                                ...   ...   \n",
       "995   996                          Sarfarosh  1999   \n",
       "996   997        Everything's Gonna Be Great  1998   \n",
       "997   998                   Paan Singh Tomar  2012   \n",
       "998   999                              Anand  1971   \n",
       "999  1000                         The Breath  2009   \n",
       "\n",
       "                            Genre              Director  RunTime  Rating  \\\n",
       "0                   Action, Drama       Joseph Kosinski      130     8.5   \n",
       "1    Action, Adventure, Biography            Ron Howard      147     7.8   \n",
       "2       Action, Adventure, Comedy              Dan Kwan      139     8.2   \n",
       "3            Action, Crime, Drama           Matt Reeves      176     7.9   \n",
       "4      Action, Adventure, Fantasy             Jon Watts      148     8.3   \n",
       "..                            ...                   ...      ...     ...   \n",
       "995       Action, Drama, Thriller   John Mathew Matthan      174     8.1   \n",
       "996       Comedy, Drama, Thriller            Ömer Vargi      107     8.1   \n",
       "997      Action, Biography, Crime      Tigmanshu Dhulia      135     8.2   \n",
       "998                Drama, Musical  Hrishikesh Mukherjee      122     8.1   \n",
       "999       Action, Drama, Thriller        Levent Semerci      128     7.9   \n",
       "\n",
       "      MetaScore   Votes   Gross  \n",
       "0    78          324613       0  \n",
       "1    66           33502       0  \n",
       "2    81          188809       0  \n",
       "3    72          582166       0  \n",
       "4    71          713789  804.75  \n",
       "..          ...     ...     ...  \n",
       "995           0   25750       0  \n",
       "996           0   25512       0  \n",
       "997           0   36303    0.04  \n",
       "998           0   33806       0  \n",
       "999           0   33725       0  \n",
       "\n",
       "[1000 rows x 10 columns]"
      ]
     },
     "execution_count": 61,
     "metadata": {},
     "output_type": "execute_result"
    }
   ],
   "source": [
    "dataset"
   ]
  },
  {
   "cell_type": "code",
   "execution_count": 62,
   "id": "bca96aa7",
   "metadata": {},
   "outputs": [],
   "source": [
    "dataset.to_csv(\"Top_Movies_IMDb1.csv\", index = False)"
   ]
  },
  {
   "cell_type": "code",
   "execution_count": 63,
   "id": "63cb7616",
   "metadata": {},
   "outputs": [
    {
     "data": {
      "text/plain": [
       "Rank         False\n",
       "Title        False\n",
       "Year         False\n",
       "Genre        False\n",
       "Director     False\n",
       "RunTime      False\n",
       "Rating       False\n",
       "MetaScore    False\n",
       "Votes        False\n",
       "Gross        False\n",
       "dtype: bool"
      ]
     },
     "execution_count": 63,
     "metadata": {},
     "output_type": "execute_result"
    }
   ],
   "source": [
    "dataset.isnull().any()"
   ]
  },
  {
   "cell_type": "markdown",
   "id": "863a924e",
   "metadata": {},
   "source": [
    "### Checking for incorrect datatype"
   ]
  },
  {
   "cell_type": "code",
   "execution_count": 64,
   "id": "53d3de6f",
   "metadata": {},
   "outputs": [
    {
     "name": "stdout",
     "output_type": "stream",
     "text": [
      "<class 'pandas.core.frame.DataFrame'>\n",
      "RangeIndex: 1000 entries, 0 to 999\n",
      "Data columns (total 10 columns):\n",
      " #   Column     Non-Null Count  Dtype  \n",
      "---  ------     --------------  -----  \n",
      " 0   Rank       1000 non-null   int64  \n",
      " 1   Title      1000 non-null   object \n",
      " 2   Year       1000 non-null   int64  \n",
      " 3   Genre      1000 non-null   object \n",
      " 4   Director   1000 non-null   object \n",
      " 5   RunTime    1000 non-null   int64  \n",
      " 6   Rating     1000 non-null   float64\n",
      " 7   MetaScore  1000 non-null   object \n",
      " 8   Votes      1000 non-null   object \n",
      " 9   Gross      1000 non-null   object \n",
      "dtypes: float64(1), int64(3), object(6)\n",
      "memory usage: 78.2+ KB\n"
     ]
    }
   ],
   "source": [
    "dataset.info()"
   ]
  },
  {
   "cell_type": "code",
   "execution_count": 65,
   "id": "be1d1169",
   "metadata": {},
   "outputs": [],
   "source": [
    "dataset[\"Gross\"] = dataset.Gross.astype(float)"
   ]
  },
  {
   "cell_type": "code",
   "execution_count": 71,
   "id": "7202af61",
   "metadata": {},
   "outputs": [],
   "source": [
    "dataset[\"MetaScore\"] = dataset.MetaScore.astype(float)"
   ]
  },
  {
   "cell_type": "code",
   "execution_count": 72,
   "id": "c2b12e58",
   "metadata": {},
   "outputs": [],
   "source": [
    "dataset[\"Votes\"] = dataset.Votes.astype(int)"
   ]
  },
  {
   "cell_type": "code",
   "execution_count": 73,
   "id": "4858a1a0",
   "metadata": {},
   "outputs": [
    {
     "name": "stdout",
     "output_type": "stream",
     "text": [
      "<class 'pandas.core.frame.DataFrame'>\n",
      "RangeIndex: 1000 entries, 0 to 999\n",
      "Data columns (total 10 columns):\n",
      " #   Column     Non-Null Count  Dtype  \n",
      "---  ------     --------------  -----  \n",
      " 0   Rank       1000 non-null   int64  \n",
      " 1   Title      1000 non-null   object \n",
      " 2   Year       1000 non-null   int64  \n",
      " 3   Genre      1000 non-null   object \n",
      " 4   Director   1000 non-null   object \n",
      " 5   RunTime    1000 non-null   int64  \n",
      " 6   Rating     1000 non-null   float64\n",
      " 7   MetaScore  1000 non-null   float64\n",
      " 8   Votes      1000 non-null   int32  \n",
      " 9   Gross      1000 non-null   float64\n",
      "dtypes: float64(3), int32(1), int64(3), object(3)\n",
      "memory usage: 74.3+ KB\n"
     ]
    }
   ],
   "source": [
    "dataset.info()"
   ]
  },
  {
   "cell_type": "markdown",
   "id": "d2705388",
   "metadata": {},
   "source": [
    "+ The Movies columns and their datatypes corrected "
   ]
  },
  {
   "cell_type": "markdown",
   "id": "693c52a1",
   "metadata": {},
   "source": [
    "## EDA"
   ]
  },
  {
   "cell_type": "markdown",
   "id": "8a64e94c",
   "metadata": {},
   "source": [
    "#### Find out the total rows and columns of th DataFrame"
   ]
  },
  {
   "cell_type": "code",
   "execution_count": 69,
   "id": "01c8345e",
   "metadata": {},
   "outputs": [
    {
     "data": {
      "text/plain": [
       "(1000, 10)"
      ]
     },
     "execution_count": 69,
     "metadata": {},
     "output_type": "execute_result"
    }
   ],
   "source": [
    "dataset.shape"
   ]
  },
  {
   "cell_type": "markdown",
   "id": "e1709aee",
   "metadata": {},
   "source": [
    "#### Check for number of unique values for the column \"Title\""
   ]
  },
  {
   "cell_type": "code",
   "execution_count": 70,
   "id": "51819f11",
   "metadata": {},
   "outputs": [
    {
     "data": {
      "text/plain": [
       "996"
      ]
     },
     "execution_count": 70,
     "metadata": {},
     "output_type": "execute_result"
    }
   ],
   "source": [
    "dataset.Title.nunique()"
   ]
  },
  {
   "cell_type": "markdown",
   "id": "dec4bde8",
   "metadata": {},
   "source": [
    "+ Unique 'Title' is not equal to no.of rows in dataset."
   ]
  },
  {
   "cell_type": "markdown",
   "id": "200cc2fb",
   "metadata": {},
   "source": [
    "#### Check for any duplicate movies"
   ]
  },
  {
   "cell_type": "code",
   "execution_count": 72,
   "id": "11e529ad",
   "metadata": {},
   "outputs": [
    {
     "data": {
      "text/plain": [
       "True"
      ]
     },
     "execution_count": 72,
     "metadata": {},
     "output_type": "execute_result"
    }
   ],
   "source": [
    "dataset.Title.duplicated().any()"
   ]
  },
  {
   "cell_type": "code",
   "execution_count": 71,
   "id": "f9866576",
   "metadata": {},
   "outputs": [
    {
     "data": {
      "text/html": [
       "<div>\n",
       "<style scoped>\n",
       "    .dataframe tbody tr th:only-of-type {\n",
       "        vertical-align: middle;\n",
       "    }\n",
       "\n",
       "    .dataframe tbody tr th {\n",
       "        vertical-align: top;\n",
       "    }\n",
       "\n",
       "    .dataframe thead th {\n",
       "        text-align: right;\n",
       "    }\n",
       "</style>\n",
       "<table border=\"1\" class=\"dataframe\">\n",
       "  <thead>\n",
       "    <tr style=\"text-align: right;\">\n",
       "      <th></th>\n",
       "      <th>Rank</th>\n",
       "      <th>Title</th>\n",
       "      <th>Year</th>\n",
       "      <th>Genre</th>\n",
       "      <th>Director</th>\n",
       "      <th>RunTime(Minutes)</th>\n",
       "      <th>Rating</th>\n",
       "      <th>MetaScore</th>\n",
       "      <th>Votes</th>\n",
       "      <th>Gross(Millions)</th>\n",
       "    </tr>\n",
       "  </thead>\n",
       "  <tbody>\n",
       "    <tr>\n",
       "      <th>94</th>\n",
       "      <td>95</td>\n",
       "      <td>Scarface</td>\n",
       "      <td>1983</td>\n",
       "      <td>Crime, Drama</td>\n",
       "      <td>Brian De Palma</td>\n",
       "      <td>170</td>\n",
       "      <td>8.3</td>\n",
       "      <td>65</td>\n",
       "      <td>826495</td>\n",
       "      <td>45.60</td>\n",
       "    </tr>\n",
       "    <tr>\n",
       "      <th>235</th>\n",
       "      <td>236</td>\n",
       "      <td>Beauty and the Beast</td>\n",
       "      <td>1991</td>\n",
       "      <td>Animation, Family, Fantasy</td>\n",
       "      <td>Gary Trousdale</td>\n",
       "      <td>84</td>\n",
       "      <td>8.0</td>\n",
       "      <td>95</td>\n",
       "      <td>451091</td>\n",
       "      <td>218.97</td>\n",
       "    </tr>\n",
       "    <tr>\n",
       "      <th>330</th>\n",
       "      <td>331</td>\n",
       "      <td>The Girl with the Dragon Tattoo</td>\n",
       "      <td>2011</td>\n",
       "      <td>Crime, Drama, Mystery</td>\n",
       "      <td>David Fincher</td>\n",
       "      <td>158</td>\n",
       "      <td>7.8</td>\n",
       "      <td>71</td>\n",
       "      <td>460186</td>\n",
       "      <td>102.52</td>\n",
       "    </tr>\n",
       "    <tr>\n",
       "      <th>568</th>\n",
       "      <td>569</td>\n",
       "      <td>The Girl with the Dragon Tattoo</td>\n",
       "      <td>2009</td>\n",
       "      <td>Crime, Drama, Mystery</td>\n",
       "      <td>Niels Arden Oplev</td>\n",
       "      <td>152</td>\n",
       "      <td>7.8</td>\n",
       "      <td>76</td>\n",
       "      <td>216607</td>\n",
       "      <td>10.10</td>\n",
       "    </tr>\n",
       "    <tr>\n",
       "      <th>738</th>\n",
       "      <td>739</td>\n",
       "      <td>Drishyam</td>\n",
       "      <td>2015</td>\n",
       "      <td>Crime, Drama, Mystery</td>\n",
       "      <td>Nishikant Kamat</td>\n",
       "      <td>163</td>\n",
       "      <td>8.2</td>\n",
       "      <td>0</td>\n",
       "      <td>81115</td>\n",
       "      <td>0.74</td>\n",
       "    </tr>\n",
       "    <tr>\n",
       "      <th>855</th>\n",
       "      <td>856</td>\n",
       "      <td>Scarface</td>\n",
       "      <td>1932</td>\n",
       "      <td>Action, Crime, Drama</td>\n",
       "      <td>Howard Hawks</td>\n",
       "      <td>93</td>\n",
       "      <td>7.7</td>\n",
       "      <td>87</td>\n",
       "      <td>28025</td>\n",
       "      <td>0</td>\n",
       "    </tr>\n",
       "    <tr>\n",
       "      <th>963</th>\n",
       "      <td>964</td>\n",
       "      <td>Beauty and the Beast</td>\n",
       "      <td>1946</td>\n",
       "      <td>Drama, Fantasy, Romance</td>\n",
       "      <td>Jean Cocteau</td>\n",
       "      <td>93</td>\n",
       "      <td>7.9</td>\n",
       "      <td>92</td>\n",
       "      <td>26491</td>\n",
       "      <td>0.30</td>\n",
       "    </tr>\n",
       "    <tr>\n",
       "      <th>990</th>\n",
       "      <td>991</td>\n",
       "      <td>Drishyam</td>\n",
       "      <td>2013</td>\n",
       "      <td>Crime, Drama, Thriller</td>\n",
       "      <td>Jeethu Joseph</td>\n",
       "      <td>160</td>\n",
       "      <td>8.3</td>\n",
       "      <td>0</td>\n",
       "      <td>41092</td>\n",
       "      <td>0</td>\n",
       "    </tr>\n",
       "  </tbody>\n",
       "</table>\n",
       "</div>"
      ],
      "text/plain": [
       "     Rank                            Title  Year                       Genre  \\\n",
       "94     95                         Scarface  1983                Crime, Drama   \n",
       "235   236             Beauty and the Beast  1991  Animation, Family, Fantasy   \n",
       "330   331  The Girl with the Dragon Tattoo  2011       Crime, Drama, Mystery   \n",
       "568   569  The Girl with the Dragon Tattoo  2009       Crime, Drama, Mystery   \n",
       "738   739                         Drishyam  2015       Crime, Drama, Mystery   \n",
       "855   856                         Scarface  1932        Action, Crime, Drama   \n",
       "963   964             Beauty and the Beast  1946     Drama, Fantasy, Romance   \n",
       "990   991                         Drishyam  2013      Crime, Drama, Thriller   \n",
       "\n",
       "              Director  RunTime(Minutes)  Rating   MetaScore   Votes  \\\n",
       "94      Brian De Palma               170     8.3  65          826495   \n",
       "235     Gary Trousdale                84     8.0  95          451091   \n",
       "330      David Fincher               158     7.8  71          460186   \n",
       "568  Niels Arden Oplev               152     7.8  76          216607   \n",
       "738    Nishikant Kamat               163     8.2           0   81115   \n",
       "855       Howard Hawks                93     7.7  87           28025   \n",
       "963       Jean Cocteau                93     7.9  92           26491   \n",
       "990      Jeethu Joseph               160     8.3           0   41092   \n",
       "\n",
       "    Gross(Millions)  \n",
       "94            45.60  \n",
       "235          218.97  \n",
       "330          102.52  \n",
       "568           10.10  \n",
       "738            0.74  \n",
       "855               0  \n",
       "963            0.30  \n",
       "990               0  "
      ]
     },
     "execution_count": 71,
     "metadata": {},
     "output_type": "execute_result"
    }
   ],
   "source": [
    "dataset.loc[dataset.Title.duplicated(keep=False)]"
   ]
  },
  {
   "cell_type": "markdown",
   "id": "354e8ec4",
   "metadata": {},
   "source": [
    "+ There are no duplicate movies. The movie Title \"Scarface\" was released on 1983 and 1932. So they are different movies"
   ]
  },
  {
   "cell_type": "markdown",
   "id": "d70a69a2",
   "metadata": {},
   "source": [
    "#### Checking for any missing values in the whole DataFrame"
   ]
  },
  {
   "cell_type": "code",
   "execution_count": 77,
   "id": "18657103",
   "metadata": {},
   "outputs": [
    {
     "data": {
      "text/plain": [
       "False"
      ]
     },
     "execution_count": 77,
     "metadata": {},
     "output_type": "execute_result"
    }
   ],
   "source": [
    "dataset.isnull().any().any()"
   ]
  },
  {
   "cell_type": "markdown",
   "id": "bb29621e",
   "metadata": {},
   "source": [
    "+ Now the dataset is ready for EDA"
   ]
  },
  {
   "cell_type": "markdown",
   "id": "2a21b704",
   "metadata": {},
   "source": [
    "# Exploratory Data Analysis (EDA)"
   ]
  },
  {
   "cell_type": "markdown",
   "id": "9045abac",
   "metadata": {},
   "source": [
    "+ Exploratory Data Analysis (EDA) is an approach to analyze the data using visual techniques. It is used to discover trends, patterns, or to check assumptions with the help of statistical summary and graphical representations."
   ]
  },
  {
   "cell_type": "code",
   "execution_count": 186,
   "id": "30401dbf",
   "metadata": {},
   "outputs": [],
   "source": [
    "import matplotlib.pyplot as plt\n",
    "import seaborn as sns\n",
    "\n",
    "import warnings\n",
    "warnings.filterwarnings(\"ignore\")"
   ]
  },
  {
   "cell_type": "markdown",
   "id": "7d63c0ca",
   "metadata": {},
   "source": [
    "# Univariate Analysis:"
   ]
  },
  {
   "cell_type": "code",
   "execution_count": 189,
   "id": "7f985c07",
   "metadata": {},
   "outputs": [
    {
     "data": {
      "text/plain": [
       "7.7    170\n",
       "7.8    149\n",
       "8.0    131\n",
       "7.9    128\n",
       "8.1    127\n",
       "7.6     87\n",
       "8.2     71\n",
       "8.3     43\n",
       "8.4     34\n",
       "8.5     26\n",
       "8.6     13\n",
       "8.8      6\n",
       "9.0      6\n",
       "8.7      5\n",
       "8.9      2\n",
       "9.3      1\n",
       "9.2      1\n",
       "Name: Rating, dtype: int64"
      ]
     },
     "execution_count": 189,
     "metadata": {},
     "output_type": "execute_result"
    }
   ],
   "source": [
    "dataset['Rating'].value_counts()"
   ]
  },
  {
   "cell_type": "code",
   "execution_count": 191,
   "id": "b37e2788",
   "metadata": {},
   "outputs": [
    {
     "data": {
      "image/png": "[encoded data removed]",
      "text/plain": [
       "<Figure size 720x360 with 1 Axes>"
      ]
     },
     "metadata": {},
     "output_type": "display_data"
    }
   ],
   "source": [
    "sns.countplot(dataset['Rating'])\n",
    "\n",
    "plt.title('Count of Rating');"
   ]
  },
  {
   "cell_type": "markdown",
   "id": "bd908afd",
   "metadata": {},
   "source": [
    "+ Most of the movies have Rating between 7.6 to 8.6\n",
    "\n",
    "+ The trend follows Gaussian distribution pattern with positive skew and mode at 7.7"
   ]
  },
  {
   "cell_type": "code",
   "execution_count": 206,
   "id": "e321deb2",
   "metadata": {},
   "outputs": [
    {
     "data": {
      "image/png": "[encoded data removed]",
      "text/plain": [
       "<Figure size 1440x720 with 1 Axes>"
      ]
     },
     "metadata": {},
     "output_type": "display_data"
    }
   ],
   "source": [
    "ax = dataset['Year'].value_counts().plot.bar(figsize = [20,10]) #(kind = 'bar', figsize = [20,9])\n",
    "ax.set_ylabel('Movies Count');\n",
    "ax.set_xlabel('Year');"
   ]
  },
  {
   "cell_type": "code",
   "execution_count": 212,
   "id": "8fcd76f8",
   "metadata": {},
   "outputs": [
    {
     "data": {
      "text/plain": [
       "Alfred Hitchcock    13\n",
       "Steven Spielberg    13\n",
       "Akira Kurosawa      12\n",
       "Martin Scorsese     10\n",
       "Hayao Miyazaki      10\n",
       "                    ..\n",
       "Todd Haynes          1\n",
       "Katsuhiro Ôtomo      1\n",
       "David Zucker         1\n",
       "Robert Mulligan      1\n",
       "Levent Semerci       1\n",
       "Name: Director, Length: 553, dtype: int64"
      ]
     },
     "execution_count": 212,
     "metadata": {},
     "output_type": "execute_result"
    }
   ],
   "source": [
    "dataset.Director.value_counts()"
   ]
  },
  {
   "cell_type": "code",
   "execution_count": 214,
   "id": "e5472773",
   "metadata": {},
   "outputs": [
    {
     "data": {
      "image/png": "[encoded data removed]",
      "text/plain": [
       "<Figure size 720x360 with 1 Axes>"
      ]
     },
     "metadata": {},
     "output_type": "display_data"
    }
   ],
   "source": [
    "dataset.Director.value_counts().head(10).plot.bar();"
   ]
  },
  {
   "cell_type": "code",
   "execution_count": 211,
   "id": "8ee21e21",
   "metadata": {},
   "outputs": [
    {
     "data": {
      "image/png": "[encoded data removed]",
      "text/plain": [
       "<Figure size 720x360 with 1 Axes>"
      ]
     },
     "metadata": {},
     "output_type": "display_data"
    }
   ],
   "source": [
    "dataset.RunTime.plot.hist();"
   ]
  },
  {
   "cell_type": "code",
   "execution_count": 228,
   "id": "620307ea",
   "metadata": {},
   "outputs": [
    {
     "data": {
      "image/png": "[encoded data removed]",
      "text/plain": [
       "<Figure size 720x360 with 1 Axes>"
      ]
     },
     "metadata": {},
     "output_type": "display_data"
    }
   ],
   "source": [
    "dataset.Genre_count.value_counts().plot.pie();"
   ]
  },
  {
   "cell_type": "markdown",
   "id": "be6b755c",
   "metadata": {},
   "source": [
    "## Bivariate Analysis"
   ]
  },
  {
   "cell_type": "markdown",
   "id": "4785e0e8",
   "metadata": {},
   "source": [
    "### Top 5 directors  by  Gross"
   ]
  },
  {
   "cell_type": "code",
   "execution_count": 241,
   "id": "253af9d2",
   "metadata": {},
   "outputs": [
    {
     "data": {
      "text/html": [
       "<div>\n",
       "<style scoped>\n",
       "    .dataframe tbody tr th:only-of-type {\n",
       "        vertical-align: middle;\n",
       "    }\n",
       "\n",
       "    .dataframe tbody tr th {\n",
       "        vertical-align: top;\n",
       "    }\n",
       "\n",
       "    .dataframe thead th {\n",
       "        text-align: right;\n",
       "    }\n",
       "</style>\n",
       "<table border=\"1\" class=\"dataframe\">\n",
       "  <thead>\n",
       "    <tr style=\"text-align: right;\">\n",
       "      <th></th>\n",
       "      <th>Gross</th>\n",
       "      <th>Movies Count</th>\n",
       "    </tr>\n",
       "    <tr>\n",
       "      <th>Director</th>\n",
       "      <th></th>\n",
       "      <th></th>\n",
       "    </tr>\n",
       "  </thead>\n",
       "  <tbody>\n",
       "    <tr>\n",
       "      <th>Jon Watts</th>\n",
       "      <td>804.750</td>\n",
       "      <td>1</td>\n",
       "    </tr>\n",
       "    <tr>\n",
       "      <th>Anthony Russo</th>\n",
       "      <td>551.260</td>\n",
       "      <td>4</td>\n",
       "    </tr>\n",
       "    <tr>\n",
       "      <th>Gareth Edwards</th>\n",
       "      <td>532.180</td>\n",
       "      <td>1</td>\n",
       "    </tr>\n",
       "    <tr>\n",
       "      <th>J.J. Abrams</th>\n",
       "      <td>474.390</td>\n",
       "      <td>3</td>\n",
       "    </tr>\n",
       "    <tr>\n",
       "      <th>Josh Cooley</th>\n",
       "      <td>434.040</td>\n",
       "      <td>1</td>\n",
       "    </tr>\n",
       "    <tr>\n",
       "      <th>Roger Allers</th>\n",
       "      <td>422.780</td>\n",
       "      <td>1</td>\n",
       "    </tr>\n",
       "    <tr>\n",
       "      <th>Tim Miller</th>\n",
       "      <td>363.070</td>\n",
       "      <td>1</td>\n",
       "    </tr>\n",
       "    <tr>\n",
       "      <th>James Gunn</th>\n",
       "      <td>361.495</td>\n",
       "      <td>2</td>\n",
       "    </tr>\n",
       "    <tr>\n",
       "      <th>George Lucas</th>\n",
       "      <td>351.500</td>\n",
       "      <td>2</td>\n",
       "    </tr>\n",
       "    <tr>\n",
       "      <th>James Cameron</th>\n",
       "      <td>349.648</td>\n",
       "      <td>5</td>\n",
       "    </tr>\n",
       "  </tbody>\n",
       "</table>\n",
       "</div>"
      ],
      "text/plain": [
       "                  Gross  Movies Count\n",
       "Director                             \n",
       "Jon Watts       804.750             1\n",
       "Anthony Russo   551.260             4\n",
       "Gareth Edwards  532.180             1\n",
       "J.J. Abrams     474.390             3\n",
       "Josh Cooley     434.040             1\n",
       "Roger Allers    422.780             1\n",
       "Tim Miller      363.070             1\n",
       "James Gunn      361.495             2\n",
       "George Lucas    351.500             2\n",
       "James Cameron   349.648             5"
      ]
     },
     "execution_count": 241,
     "metadata": {},
     "output_type": "execute_result"
    }
   ],
   "source": [
    "gross_directors = dataset.groupby('Director').agg({'Gross':'mean','Rank':'count'})\n",
    "top_5_gross_directors = gross_directors.rename(columns={'Rank':'Movies Count'}).sort_values('Gross',ascending=False)[:10]\n",
    "top_5_gross_directors"
   ]
  },
  {
   "cell_type": "markdown",
   "id": "ad7c6cfa",
   "metadata": {},
   "source": [
    "#### Plot the result"
   ]
  },
  {
   "cell_type": "code",
   "execution_count": 243,
   "id": "a8dc638d",
   "metadata": {},
   "outputs": [
    {
     "data": {
      "image/png": "[encoded data removed]",
      "text/plain": [
       "<Figure size 720x360 with 1 Axes>"
      ]
     },
     "metadata": {},
     "output_type": "display_data"
    }
   ],
   "source": [
    "ax = top_5_gross_directors[\"Gross\"].plot.bar();\n",
    "ax.set_ylabel(\"Gross in Millions\")\n",
    "ax.set_title(\"Average Gross of Top 10 Directors by Gross\", y=1.02)\n",
    "ax.set_xticklabels(top_5_gross_directors.index, rotation = 45);"
   ]
  },
  {
   "cell_type": "markdown",
   "id": "66d4c893",
   "metadata": {},
   "source": [
    "### Top 5 Directors by Rating"
   ]
  },
  {
   "cell_type": "code",
   "execution_count": 88,
   "id": "1e383896",
   "metadata": {},
   "outputs": [
    {
     "data": {
      "text/html": [
       "<div>\n",
       "<style scoped>\n",
       "    .dataframe tbody tr th:only-of-type {\n",
       "        vertical-align: middle;\n",
       "    }\n",
       "\n",
       "    .dataframe tbody tr th {\n",
       "        vertical-align: top;\n",
       "    }\n",
       "\n",
       "    .dataframe thead th {\n",
       "        text-align: right;\n",
       "    }\n",
       "</style>\n",
       "<table border=\"1\" class=\"dataframe\">\n",
       "  <thead>\n",
       "    <tr style=\"text-align: right;\">\n",
       "      <th></th>\n",
       "      <th>Rating</th>\n",
       "      <th>Movies Count</th>\n",
       "    </tr>\n",
       "    <tr>\n",
       "      <th>Director</th>\n",
       "      <th></th>\n",
       "      <th></th>\n",
       "    </tr>\n",
       "  </thead>\n",
       "  <tbody>\n",
       "    <tr>\n",
       "      <th>Madhavan</th>\n",
       "      <td>9.00</td>\n",
       "      <td>1</td>\n",
       "    </tr>\n",
       "    <tr>\n",
       "      <th>Frank Darabont</th>\n",
       "      <td>8.95</td>\n",
       "      <td>2</td>\n",
       "    </tr>\n",
       "    <tr>\n",
       "      <th>T.J. Gnanavel</th>\n",
       "      <td>8.90</td>\n",
       "      <td>1</td>\n",
       "    </tr>\n",
       "    <tr>\n",
       "      <th>Irvin Kershner</th>\n",
       "      <td>8.70</td>\n",
       "      <td>1</td>\n",
       "    </tr>\n",
       "    <tr>\n",
       "      <th>Lana Wachowski</th>\n",
       "      <td>8.70</td>\n",
       "      <td>1</td>\n",
       "    </tr>\n",
       "  </tbody>\n",
       "</table>\n",
       "</div>"
      ],
      "text/plain": [
       "                Rating  Movies Count\n",
       "Director                            \n",
       "Madhavan          9.00             1\n",
       "Frank Darabont    8.95             2\n",
       "T.J. Gnanavel     8.90             1\n",
       "Irvin Kershner    8.70             1\n",
       "Lana Wachowski    8.70             1"
      ]
     },
     "execution_count": 88,
     "metadata": {},
     "output_type": "execute_result"
    }
   ],
   "source": [
    "rating_directors = dataset.groupby('Director').agg({'Rating':'mean','Rank':'count'})\n",
    "top_5_rating_directors = rating_directors.rename(columns={'Rank':'Movies Count'}).sort_values('Rating',ascending=False)[:5]\n",
    "top_5_rating_directors"
   ]
  },
  {
   "cell_type": "markdown",
   "id": "1f1eb754",
   "metadata": {},
   "source": [
    "#### Plot the Result"
   ]
  },
  {
   "cell_type": "code",
   "execution_count": 92,
   "id": "dcf35b66",
   "metadata": {},
   "outputs": [
    {
     "data": {
      "image/png": "[encoded data removed]",
      "text/plain": [
       "<Figure size 432x288 with 1 Axes>"
      ]
     },
     "metadata": {
      "needs_background": "light"
     },
     "output_type": "display_data"
    }
   ],
   "source": [
    "ax = top_5_rating_directors['Rating'].plot.bar();\n",
    "ax.set_ylabel('IMDb Rating')\n",
    "ax.set_title('Average Rating of Top 5 Directors by Rating', y=1.02)\n",
    "ax.set_xticklabels(top_5_rating_directors.index, rotation = 45);"
   ]
  },
  {
   "cell_type": "markdown",
   "id": "d38a21c0",
   "metadata": {},
   "source": [
    "### Top Directors receive higher MetaScore"
   ]
  },
  {
   "cell_type": "code",
   "execution_count": 93,
   "id": "a99ac583",
   "metadata": {},
   "outputs": [
    {
     "data": {
      "text/html": [
       "<div>\n",
       "<style scoped>\n",
       "    .dataframe tbody tr th:only-of-type {\n",
       "        vertical-align: middle;\n",
       "    }\n",
       "\n",
       "    .dataframe tbody tr th {\n",
       "        vertical-align: top;\n",
       "    }\n",
       "\n",
       "    .dataframe thead th {\n",
       "        text-align: right;\n",
       "    }\n",
       "</style>\n",
       "<table border=\"1\" class=\"dataframe\">\n",
       "  <thead>\n",
       "    <tr style=\"text-align: right;\">\n",
       "      <th></th>\n",
       "      <th>MetaScore</th>\n",
       "      <th>Movies Count</th>\n",
       "    </tr>\n",
       "    <tr>\n",
       "      <th>Director</th>\n",
       "      <th></th>\n",
       "      <th></th>\n",
       "    </tr>\n",
       "  </thead>\n",
       "  <tbody>\n",
       "    <tr>\n",
       "      <th>Alexander Mackendrick</th>\n",
       "      <td>100.0</td>\n",
       "      <td>1</td>\n",
       "    </tr>\n",
       "    <tr>\n",
       "      <th>Luchino Visconti</th>\n",
       "      <td>100.0</td>\n",
       "      <td>1</td>\n",
       "    </tr>\n",
       "    <tr>\n",
       "      <th>Orson Welles</th>\n",
       "      <td>99.5</td>\n",
       "      <td>2</td>\n",
       "    </tr>\n",
       "    <tr>\n",
       "      <th>Charles Laughton</th>\n",
       "      <td>99.0</td>\n",
       "      <td>1</td>\n",
       "    </tr>\n",
       "    <tr>\n",
       "      <th>Guillermo del Toro</th>\n",
       "      <td>98.0</td>\n",
       "      <td>1</td>\n",
       "    </tr>\n",
       "  </tbody>\n",
       "</table>\n",
       "</div>"
      ],
      "text/plain": [
       "                       MetaScore  Movies Count\n",
       "Director                                      \n",
       "Alexander Mackendrick      100.0             1\n",
       "Luchino Visconti           100.0             1\n",
       "Orson Welles                99.5             2\n",
       "Charles Laughton            99.0             1\n",
       "Guillermo del Toro          98.0             1"
      ]
     },
     "execution_count": 93,
     "metadata": {},
     "output_type": "execute_result"
    }
   ],
   "source": [
    "meta_directors = dataset.groupby('Director').agg({'MetaScore':'mean','Rank':'count'})\n",
    "top_5_meta_directors = meta_directors.rename(columns= {'Rank':'Movies Count'}).sort_values('MetaScore',ascending=False)[:5]\n",
    "top_5_meta_directors"
   ]
  },
  {
   "cell_type": "markdown",
   "id": "52592401",
   "metadata": {},
   "source": [
    "#### Plot the Result"
   ]
  },
  {
   "cell_type": "code",
   "execution_count": 94,
   "id": "9084aaa7",
   "metadata": {},
   "outputs": [
    {
     "data": {
      "image/png": "[encoded data removed]",
      "text/plain": [
       "<Figure size 432x288 with 1 Axes>"
      ]
     },
     "metadata": {
      "needs_background": "light"
     },
     "output_type": "display_data"
    }
   ],
   "source": [
    "ax = top_5_meta_directors['MetaScore'].plot.bar();\n",
    "ax.set_ylabel('MetaScore')\n",
    "ax.set_title('Average MetaScore of Top 5 Directors by MetaScore', y=1.02)\n",
    "ax.set_xticklabels(top_5_meta_directors.index, rotation = 45);"
   ]
  },
  {
   "cell_type": "code",
   "execution_count": 183,
   "id": "d96855b7",
   "metadata": {},
   "outputs": [],
   "source": [
    "dataset = pd.read_csv(\"Top_Movies_IMDb1.csv\")"
   ]
  },
  {
   "cell_type": "code",
   "execution_count": 101,
   "id": "7da63f8f",
   "metadata": {},
   "outputs": [
    {
     "data": {
      "text/html": [
       "<div>\n",
       "<style scoped>\n",
       "    .dataframe tbody tr th:only-of-type {\n",
       "        vertical-align: middle;\n",
       "    }\n",
       "\n",
       "    .dataframe tbody tr th {\n",
       "        vertical-align: top;\n",
       "    }\n",
       "\n",
       "    .dataframe thead th {\n",
       "        text-align: right;\n",
       "    }\n",
       "</style>\n",
       "<table border=\"1\" class=\"dataframe\">\n",
       "  <thead>\n",
       "    <tr style=\"text-align: right;\">\n",
       "      <th></th>\n",
       "      <th>Rank</th>\n",
       "      <th>Title</th>\n",
       "      <th>Year</th>\n",
       "      <th>Genre</th>\n",
       "      <th>Director</th>\n",
       "      <th>RunTime</th>\n",
       "      <th>Rating</th>\n",
       "      <th>MetaScore</th>\n",
       "      <th>Votes</th>\n",
       "      <th>Gross</th>\n",
       "    </tr>\n",
       "  </thead>\n",
       "  <tbody>\n",
       "    <tr>\n",
       "      <th>0</th>\n",
       "      <td>1</td>\n",
       "      <td>Top Gun: Maverick</td>\n",
       "      <td>2022</td>\n",
       "      <td>Action, Drama</td>\n",
       "      <td>Joseph Kosinski</td>\n",
       "      <td>130</td>\n",
       "      <td>8.5</td>\n",
       "      <td>78</td>\n",
       "      <td>324613</td>\n",
       "      <td>0.00</td>\n",
       "    </tr>\n",
       "    <tr>\n",
       "      <th>1</th>\n",
       "      <td>2</td>\n",
       "      <td>Thirteen Lives</td>\n",
       "      <td>2022</td>\n",
       "      <td>Action, Adventure, Biography</td>\n",
       "      <td>Ron Howard</td>\n",
       "      <td>147</td>\n",
       "      <td>7.8</td>\n",
       "      <td>66</td>\n",
       "      <td>33502</td>\n",
       "      <td>0.00</td>\n",
       "    </tr>\n",
       "    <tr>\n",
       "      <th>2</th>\n",
       "      <td>3</td>\n",
       "      <td>Everything Everywhere All at Once</td>\n",
       "      <td>2022</td>\n",
       "      <td>Action, Adventure, Comedy</td>\n",
       "      <td>Dan Kwan</td>\n",
       "      <td>139</td>\n",
       "      <td>8.2</td>\n",
       "      <td>81</td>\n",
       "      <td>188809</td>\n",
       "      <td>0.00</td>\n",
       "    </tr>\n",
       "    <tr>\n",
       "      <th>3</th>\n",
       "      <td>4</td>\n",
       "      <td>The Batman</td>\n",
       "      <td>2022</td>\n",
       "      <td>Action, Crime, Drama</td>\n",
       "      <td>Matt Reeves</td>\n",
       "      <td>176</td>\n",
       "      <td>7.9</td>\n",
       "      <td>72</td>\n",
       "      <td>582166</td>\n",
       "      <td>0.00</td>\n",
       "    </tr>\n",
       "    <tr>\n",
       "      <th>4</th>\n",
       "      <td>5</td>\n",
       "      <td>Spider-Man: No Way Home</td>\n",
       "      <td>2021</td>\n",
       "      <td>Action, Adventure, Fantasy</td>\n",
       "      <td>Jon Watts</td>\n",
       "      <td>148</td>\n",
       "      <td>8.3</td>\n",
       "      <td>71</td>\n",
       "      <td>713789</td>\n",
       "      <td>804.75</td>\n",
       "    </tr>\n",
       "  </tbody>\n",
       "</table>\n",
       "</div>"
      ],
      "text/plain": [
       "   Rank                              Title  Year  \\\n",
       "0     1                  Top Gun: Maverick  2022   \n",
       "1     2                     Thirteen Lives  2022   \n",
       "2     3  Everything Everywhere All at Once  2022   \n",
       "3     4                         The Batman  2022   \n",
       "4     5            Spider-Man: No Way Home  2021   \n",
       "\n",
       "                          Genre         Director  RunTime  Rating  MetaScore  \\\n",
       "0                 Action, Drama  Joseph Kosinski      130     8.5         78   \n",
       "1  Action, Adventure, Biography       Ron Howard      147     7.8         66   \n",
       "2     Action, Adventure, Comedy         Dan Kwan      139     8.2         81   \n",
       "3          Action, Crime, Drama      Matt Reeves      176     7.9         72   \n",
       "4    Action, Adventure, Fantasy        Jon Watts      148     8.3         71   \n",
       "\n",
       "    Votes   Gross  \n",
       "0  324613    0.00  \n",
       "1   33502    0.00  \n",
       "2  188809    0.00  \n",
       "3  582166    0.00  \n",
       "4  713789  804.75  "
      ]
     },
     "execution_count": 101,
     "metadata": {},
     "output_type": "execute_result"
    }
   ],
   "source": [
    "dataset.head()"
   ]
  },
  {
   "cell_type": "code",
   "execution_count": 184,
   "id": "db7027e5",
   "metadata": {},
   "outputs": [
    {
     "data": {
      "text/plain": [
       "count    1000.00000\n",
       "mean      123.64200\n",
       "std        28.50102\n",
       "min        45.00000\n",
       "25%       103.00000\n",
       "50%       120.00000\n",
       "75%       138.00000\n",
       "max       321.00000\n",
       "Name: RunTime, dtype: float64"
      ]
     },
     "execution_count": 184,
     "metadata": {},
     "output_type": "execute_result"
    }
   ],
   "source": [
    "dataset.RunTime.describe()"
   ]
  },
  {
   "cell_type": "markdown",
   "id": "00563910",
   "metadata": {},
   "source": [
    "### Genre effecting the movies"
   ]
  },
  {
   "cell_type": "code",
   "execution_count": 217,
   "id": "d633c8c2",
   "metadata": {},
   "outputs": [],
   "source": [
    "dataset['Genre_count'] = dataset.Genre.str.split(',').str.len()"
   ]
  },
  {
   "cell_type": "code",
   "execution_count": 223,
   "id": "6fc2c871",
   "metadata": {},
   "outputs": [
    {
     "data": {
      "text/plain": [
       "3    642\n",
       "2    254\n",
       "1    104\n",
       "Name: Genre_count, dtype: int64"
      ]
     },
     "execution_count": 223,
     "metadata": {},
     "output_type": "execute_result"
    }
   ],
   "source": [
    "dataset.Genre_count.value_counts()"
   ]
  },
  {
   "cell_type": "markdown",
   "id": "607755d7",
   "metadata": {},
   "source": [
    "### Calculating the Avg. Revenue, Rating and MetaScore of movies based on Genre_count"
   ]
  },
  {
   "cell_type": "code",
   "execution_count": 221,
   "id": "8ecc1bc2",
   "metadata": {},
   "outputs": [
    {
     "data": {
      "text/html": [
       "<div>\n",
       "<style scoped>\n",
       "    .dataframe tbody tr th:only-of-type {\n",
       "        vertical-align: middle;\n",
       "    }\n",
       "\n",
       "    .dataframe tbody tr th {\n",
       "        vertical-align: top;\n",
       "    }\n",
       "\n",
       "    .dataframe thead th {\n",
       "        text-align: right;\n",
       "    }\n",
       "</style>\n",
       "<table border=\"1\" class=\"dataframe\">\n",
       "  <thead>\n",
       "    <tr style=\"text-align: right;\">\n",
       "      <th></th>\n",
       "      <th>Gross</th>\n",
       "      <th>Rating</th>\n",
       "      <th>MetaScore</th>\n",
       "    </tr>\n",
       "    <tr>\n",
       "      <th>Genre_count</th>\n",
       "      <th></th>\n",
       "      <th></th>\n",
       "      <th></th>\n",
       "    </tr>\n",
       "  </thead>\n",
       "  <tbody>\n",
       "    <tr>\n",
       "      <th>1</th>\n",
       "      <td>28.054904</td>\n",
       "      <td>7.963462</td>\n",
       "      <td>66.673077</td>\n",
       "    </tr>\n",
       "    <tr>\n",
       "      <th>2</th>\n",
       "      <td>40.570039</td>\n",
       "      <td>8.005118</td>\n",
       "      <td>65.944882</td>\n",
       "    </tr>\n",
       "    <tr>\n",
       "      <th>3</th>\n",
       "      <td>68.432819</td>\n",
       "      <td>7.948442</td>\n",
       "      <td>66.049844</td>\n",
       "    </tr>\n",
       "  </tbody>\n",
       "</table>\n",
       "</div>"
      ],
      "text/plain": [
       "                 Gross    Rating  MetaScore\n",
       "Genre_count                                \n",
       "1            28.054904  7.963462  66.673077\n",
       "2            40.570039  8.005118  65.944882\n",
       "3            68.432819  7.948442  66.049844"
      ]
     },
     "execution_count": 221,
     "metadata": {},
     "output_type": "execute_result"
    }
   ],
   "source": [
    "genre_count = dataset.groupby('Genre_count')['Gross','Rating','MetaScore'].mean()\n",
    "genre_count"
   ]
  },
  {
   "cell_type": "markdown",
   "id": "7f01a8da",
   "metadata": {},
   "source": [
    "#### Plot the result"
   ]
  },
  {
   "cell_type": "code",
   "execution_count": 277,
   "id": "06471d92",
   "metadata": {},
   "outputs": [
    {
     "data": {
      "image/png": "[encoded data removed]",
      "text/plain": [
       "<Figure size 720x720 with 3 Axes>"
      ]
     },
     "metadata": {},
     "output_type": "display_data"
    }
   ],
   "source": [
    "ax1, ax2, ax3 = genre_count.plot.bar(subplots = True);\n",
    "fig = ax1.get_figure()\n",
    "fig.set_size_inches (10,10)\n",
    "ax1.set_ylabel(\"Gross\")\n",
    "ax1.legend(\"\")\n",
    "ax1.set_title(\"\")\n",
    "ax2.set_ylabel(\"Rating\")\n",
    "ax2.legend(\"\")\n",
    "ax2.set_title(\"\")\n",
    "ax3.set_ylabel(\"MetaScore\")\n",
    "ax3.legend(\"\")\n",
    "ax3.set_title(\"\")\n",
    "ax3.set_xticklabels(genre_count.index,rotation = 0.05);"
   ]
  },
  {
   "cell_type": "markdown",
   "id": "0d7ac652",
   "metadata": {},
   "source": [
    "+ The number of Genres in the movie increase the Gross of the movie significantly increases. On average, a movie with 3 Genre tends to earn double the Gross than a movie with only 1 Genre.\n",
    "+ The number of Genres in a movie does not impact Rating and MetaScore."
   ]
  },
  {
   "cell_type": "markdown",
   "id": "98eb6242",
   "metadata": {},
   "source": [
    "### Genres that bring higher Gross, Rating and MetaScore"
   ]
  },
  {
   "cell_type": "markdown",
   "id": "fdcb6e07",
   "metadata": {},
   "source": [
    "+ Since a Genre count of 3 brings the best out a movie, Find which combination of 3 Genre earns more Gross , Rating, MetaScore"
   ]
  },
  {
   "cell_type": "code",
   "execution_count": 244,
   "id": "13e8ba24",
   "metadata": {},
   "outputs": [],
   "source": [
    "genre_3 = dataset[dataset.Genre_count == 3]"
   ]
  },
  {
   "cell_type": "code",
   "execution_count": 245,
   "id": "ce6a5d65",
   "metadata": {},
   "outputs": [],
   "source": [
    "genre_3 = genre_3.groupby('Genre')['Gross','Rating','MetaScore'].mean()"
   ]
  },
  {
   "cell_type": "code",
   "execution_count": 250,
   "id": "346b7bf8",
   "metadata": {},
   "outputs": [
    {
     "data": {
      "image/png": "[encoded data removed]",
      "text/plain": [
       "<Figure size 720x360 with 1 Axes>"
      ]
     },
     "metadata": {},
     "output_type": "display_data"
    }
   ],
   "source": [
    "ax = genre_3.Gross.sort_values(ascending=False).head(10).plot.barh();\n",
    "ax.set_xlabel('Gross');"
   ]
  },
  {
   "cell_type": "markdown",
   "id": "8d5dd608",
   "metadata": {},
   "source": [
    "+ The combination of Genres: Adventure, Family and Sci-Fi produces the highest Gross"
   ]
  },
  {
   "cell_type": "code",
   "execution_count": 247,
   "id": "88e54af5",
   "metadata": {},
   "outputs": [
    {
     "data": {
      "image/png": "[encoded data removed]",
      "text/plain": [
       "<Figure size 720x360 with 1 Axes>"
      ]
     },
     "metadata": {},
     "output_type": "display_data"
    }
   ],
   "source": [
    "ax = genre_3.Rating.sort_values(ascending=False).head(5).plot.barh();\n",
    "ax.set_xlabel('Rating');"
   ]
  },
  {
   "cell_type": "markdown",
   "id": "52d38aef",
   "metadata": {},
   "source": [
    "+ The combination of Genres: Drama, Family and Fantasy produces the highest Rating."
   ]
  },
  {
   "cell_type": "code",
   "execution_count": 248,
   "id": "dc685cb3",
   "metadata": {},
   "outputs": [
    {
     "data": {
      "image/png": "[encoded data removed]",
      "text/plain": [
       "<Figure size 720x360 with 1 Axes>"
      ]
     },
     "metadata": {},
     "output_type": "display_data"
    }
   ],
   "source": [
    "ax = genre_3.MetaScore.sort_values(ascending=False).head(5).plot.barh();\n",
    "ax.set_xlabel('MetaScore');"
   ]
  },
  {
   "cell_type": "markdown",
   "id": "8f9c5ada",
   "metadata": {},
   "source": [
    "+ The combination of Genres: Mystery, Romance and Thriller produces highest MataScore."
   ]
  },
  {
   "cell_type": "code",
   "execution_count": 272,
   "id": "ff6ccb9f",
   "metadata": {},
   "outputs": [
    {
     "data": {
      "image/png": "[encoded data removed]",
      "text/plain": [
       "<Figure size 720x360 with 1 Axes>"
      ]
     },
     "metadata": {},
     "output_type": "display_data"
    }
   ],
   "source": [
    "x= dataset['Votes']\n",
    "y = dataset['Gross']\n",
    "\n",
    "plt.plot(x,y,'o')\n",
    "plt.title('Relation of Votes and Gross')\n",
    "plt.xlabel('Votes')\n",
    "plt.ylabel('Gross')\n",
    "plt.show()"
   ]
  },
  {
   "cell_type": "code",
   "execution_count": 274,
   "id": "27892886",
   "metadata": {},
   "outputs": [
    {
     "data": {
      "image/png": "[encoded data removed]",
      "text/plain": [
       "<Figure size 720x360 with 1 Axes>"
      ]
     },
     "metadata": {},
     "output_type": "display_data"
    }
   ],
   "source": [
    "x = dataset['Rating']\n",
    "y = dataset['Gross']\n",
    "plt.plot(x,y,'o')\n",
    "plt.title('Relation of Rating and Gross')\n",
    "plt.xlabel('Rating')\n",
    "plt.ylabel('Gross');\n",
    "plt.show()"
   ]
  },
  {
   "cell_type": "code",
   "execution_count": 286,
   "id": "70a6c7ad",
   "metadata": {},
   "outputs": [
    {
     "data": {
      "image/png": "[encoded data removed]",
      "text/plain": [
       "<Figure size 432x432 with 3 Axes>"
      ]
     },
     "metadata": {},
     "output_type": "display_data"
    }
   ],
   "source": [
    "g= sns.JointGrid(data=dataset, x='Rating', y='MetaScore')\n",
    "g.plot_joint(sns.histplot)\n",
    "g.plot_marginals(sns.boxplot);"
   ]
  },
  {
   "cell_type": "markdown",
   "id": "6a08d7b4",
   "metadata": {},
   "source": [
    "### Relationship between Gross, Rating and Metascore of movies"
   ]
  },
  {
   "cell_type": "code",
   "execution_count": 281,
   "id": "39d4d108",
   "metadata": {},
   "outputs": [
    {
     "data": {
      "image/png": "[encoded data removed]",
      "text/plain": [
       "<Figure size 540x540 with 12 Axes>"
      ]
     },
     "metadata": {},
     "output_type": "display_data"
    }
   ],
   "source": [
    "a= sns.pairplot(dataset, palette='muted',height=2.5, vars=['Gross','Rating','MetaScore'], kind='reg');\n",
    "\n",
    "a= a.map_offdiag(plt.scatter,s=35,alpha=0.9)\n",
    "\n",
    "plt.subplots_adjust(top=0.9);\n",
    "\n",
    "a.fig.suptitle('Relationship between Gross, Rating and Matascore',fontsize=18, color='b',alpha=0.5);"
   ]
  },
  {
   "cell_type": "code",
   "execution_count": 287,
   "id": "a8badb27",
   "metadata": {},
   "outputs": [
    {
     "data": {
      "image/png": "[encoded data removed]",
      "text/plain": [
       "<Figure size 720x360 with 2 Axes>"
      ]
     },
     "metadata": {},
     "output_type": "display_data"
    }
   ],
   "source": [
    "sns.heatmap(dataset.corr(),annot = True, vmin = -1, vmax =1, center =0, cmap= 'Blues');"
   ]
  },
  {
   "cell_type": "code",
   "execution_count": null,
   "id": "263030c6",
   "metadata": {},
   "outputs": [],
   "source": []
  }
 ],
 "metadata": {
  "kernelspec": {
   "display_name": "Python 3 (ipykernel)",
   "language": "python",
   "name": "python3"
  },
  "language_info": {
   "codemirror_mode": {
    "name": "ipython",
    "version": 3
   },
   "file_extension": ".py",
   "mimetype": "text/x-python",
   "name": "python",
   "nbconvert_exporter": "python",
   "pygments_lexer": "ipython3",
   "version": "3.9.7"
  }
 },
 "nbformat": 4,
 "nbformat_minor": 5
}
